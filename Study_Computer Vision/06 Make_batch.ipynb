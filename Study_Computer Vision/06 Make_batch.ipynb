{
 "cells": [
  {
   "cell_type": "code",
   "execution_count": 166,
   "metadata": {},
   "outputs": [],
   "source": [
    "import os\n",
    "from glob import glob\n",
    "\n",
    "import numpy as np\n",
    "import pandas as pd\n",
    "import tensorflow as tf\n",
    "from tensorflow.keras import layers\n",
    "import matplotlib.pyplot as plt\n",
    "%matplotlib inline"
   ]
  },
  {
   "cell_type": "code",
   "execution_count": 96,
   "metadata": {},
   "outputs": [
    {
     "data": {
      "text/plain": [
       "['data/cifar/train/32270_deer.png',\n",
       " 'data/cifar/train/21851_cat.png',\n",
       " 'data/cifar/train/48309_deer.png',\n",
       " 'data/cifar/train/33547_truck.png',\n",
       " 'data/cifar/train/45202_automobile.png',\n",
       " 'data/cifar/train/2789_bird.png',\n",
       " 'data/cifar/train/24517_horse.png',\n",
       " 'data/cifar/train/15193_frog.png',\n",
       " 'data/cifar/train/10817_ship.png',\n",
       " 'data/cifar/train/49897_ship.png',\n",
       " 'data/cifar/train/42274_dog.png',\n",
       " 'data/cifar/train/7873_dog.png',\n",
       " 'data/cifar/train/42550_horse.png',\n",
       " 'data/cifar/train/45066_cat.png',\n",
       " 'data/cifar/train/44738_dog.png',\n",
       " 'data/cifar/train/44071_deer.png',\n",
       " 'data/cifar/train/20642_deer.png',\n",
       " 'data/cifar/train/34900_horse.png',\n",
       " 'data/cifar/train/4062_frog.png',\n",
       " 'data/cifar/train/18251_deer.png',\n",
       " 'data/cifar/train/39228_dog.png',\n",
       " 'data/cifar/train/16978_ship.png',\n",
       " 'data/cifar/train/22394_automobile.png',\n",
       " 'data/cifar/train/25124_ship.png',\n",
       " 'data/cifar/train/6917_bird.png',\n",
       " 'data/cifar/train/248_frog.png',\n",
       " 'data/cifar/train/10711_automobile.png',\n",
       " 'data/cifar/train/35881_ship.png',\n",
       " 'data/cifar/train/37937_automobile.png',\n",
       " 'data/cifar/train/4835_cat.png',\n",
       " 'data/cifar/train/2804_airplane.png',\n",
       " 'data/cifar/train/44927_ship.png',\n",
       " 'data/cifar/train/33527_horse.png',\n",
       " 'data/cifar/train/18797_ship.png',\n",
       " 'data/cifar/train/38262_automobile.png',\n",
       " 'data/cifar/train/31839_horse.png',\n",
       " 'data/cifar/train/15717_bird.png',\n",
       " 'data/cifar/train/1620_bird.png',\n",
       " 'data/cifar/train/42179_airplane.png',\n",
       " 'data/cifar/train/31068_truck.png',\n",
       " 'data/cifar/train/25866_frog.png',\n",
       " 'data/cifar/train/43479_airplane.png',\n",
       " 'data/cifar/train/26869_truck.png',\n",
       " 'data/cifar/train/7832_automobile.png',\n",
       " 'data/cifar/train/38801_bird.png',\n",
       " 'data/cifar/train/38918_horse.png',\n",
       " 'data/cifar/train/7827_automobile.png',\n",
       " 'data/cifar/train/37516_ship.png',\n",
       " 'data/cifar/train/35804_cat.png',\n",
       " 'data/cifar/train/24696_cat.png',\n",
       " 'data/cifar/train/11518_bird.png',\n",
       " 'data/cifar/train/47315_truck.png',\n",
       " 'data/cifar/train/48598_bird.png',\n",
       " 'data/cifar/train/32017_deer.png',\n",
       " 'data/cifar/train/44167_airplane.png',\n",
       " 'data/cifar/train/45222_dog.png',\n",
       " 'data/cifar/train/12315_truck.png',\n",
       " 'data/cifar/train/9703_dog.png',\n",
       " 'data/cifar/train/47679_ship.png',\n",
       " 'data/cifar/train/37092_automobile.png',\n",
       " 'data/cifar/train/9757_bird.png',\n",
       " 'data/cifar/train/40229_truck.png',\n",
       " 'data/cifar/train/36004_airplane.png',\n",
       " 'data/cifar/train/32687_bird.png',\n",
       " 'data/cifar/train/28742_airplane.png',\n",
       " 'data/cifar/train/22744_deer.png',\n",
       " 'data/cifar/train/37504_airplane.png',\n",
       " 'data/cifar/train/15192_frog.png',\n",
       " 'data/cifar/train/10926_bird.png',\n",
       " 'data/cifar/train/41570_ship.png',\n",
       " 'data/cifar/train/4811_bird.png',\n",
       " 'data/cifar/train/30846_ship.png',\n",
       " 'data/cifar/train/31774_truck.png',\n",
       " 'data/cifar/train/4411_airplane.png',\n",
       " 'data/cifar/train/45428_bird.png',\n",
       " 'data/cifar/train/33859_automobile.png',\n",
       " 'data/cifar/train/47696_horse.png',\n",
       " 'data/cifar/train/46821_ship.png',\n",
       " 'data/cifar/train/3863_cat.png',\n",
       " 'data/cifar/train/13822_cat.png',\n",
       " 'data/cifar/train/49536_bird.png',\n",
       " 'data/cifar/train/38410_airplane.png',\n",
       " 'data/cifar/train/23494_dog.png',\n",
       " 'data/cifar/train/7082_dog.png',\n",
       " 'data/cifar/train/249_frog.png',\n",
       " 'data/cifar/train/48838_ship.png',\n",
       " 'data/cifar/train/45897_cat.png',\n",
       " 'data/cifar/train/24788_truck.png',\n",
       " 'data/cifar/train/17706_truck.png',\n",
       " 'data/cifar/train/37771_ship.png',\n",
       " 'data/cifar/train/46030_dog.png',\n",
       " 'data/cifar/train/19098_deer.png',\n",
       " 'data/cifar/train/49197_cat.png',\n",
       " 'data/cifar/train/18269_bird.png',\n",
       " 'data/cifar/train/42270_ship.png',\n",
       " 'data/cifar/train/15413_horse.png',\n",
       " 'data/cifar/train/41525_automobile.png',\n",
       " 'data/cifar/train/2121_bird.png',\n",
       " 'data/cifar/train/14781_deer.png',\n",
       " 'data/cifar/train/47764_frog.png',\n",
       " 'data/cifar/train/11521_deer.png',\n",
       " 'data/cifar/train/39692_automobile.png',\n",
       " 'data/cifar/train/13686_cat.png',\n",
       " 'data/cifar/train/45895_frog.png',\n",
       " 'data/cifar/train/28188_frog.png',\n",
       " 'data/cifar/train/34336_automobile.png',\n",
       " 'data/cifar/train/9836_horse.png',\n",
       " 'data/cifar/train/33604_frog.png',\n",
       " 'data/cifar/train/27442_automobile.png',\n",
       " 'data/cifar/train/28932_truck.png',\n",
       " 'data/cifar/train/45663_frog.png',\n",
       " 'data/cifar/train/43718_deer.png',\n",
       " 'data/cifar/train/49880_truck.png',\n",
       " 'data/cifar/train/28480_horse.png',\n",
       " 'data/cifar/train/34877_dog.png',\n",
       " 'data/cifar/train/43053_dog.png',\n",
       " 'data/cifar/train/2912_horse.png',\n",
       " 'data/cifar/train/6199_cat.png',\n",
       " 'data/cifar/train/5402_frog.png',\n",
       " 'data/cifar/train/21222_deer.png',\n",
       " 'data/cifar/train/1846_cat.png',\n",
       " 'data/cifar/train/16340_ship.png',\n",
       " 'data/cifar/train/49356_automobile.png',\n",
       " 'data/cifar/train/45881_deer.png',\n",
       " 'data/cifar/train/8760_cat.png',\n",
       " 'data/cifar/train/15159_truck.png',\n",
       " 'data/cifar/train/15190_truck.png',\n",
       " 'data/cifar/train/48925_frog.png',\n",
       " 'data/cifar/train/7493_cat.png',\n",
       " 'data/cifar/train/19121_horse.png',\n",
       " 'data/cifar/train/18575_dog.png',\n",
       " 'data/cifar/train/13432_frog.png',\n",
       " 'data/cifar/train/39751_cat.png',\n",
       " 'data/cifar/train/46458_airplane.png',\n",
       " 'data/cifar/train/45000_horse.png',\n",
       " 'data/cifar/train/68_horse.png',\n",
       " 'data/cifar/train/4228_bird.png',\n",
       " 'data/cifar/train/13386_ship.png',\n",
       " 'data/cifar/train/33610_deer.png',\n",
       " 'data/cifar/train/26190_frog.png',\n",
       " 'data/cifar/train/40376_ship.png',\n",
       " 'data/cifar/train/31564_frog.png',\n",
       " 'data/cifar/train/10130_airplane.png',\n",
       " 'data/cifar/train/45477_dog.png',\n",
       " 'data/cifar/train/693_deer.png',\n",
       " 'data/cifar/train/29599_airplane.png',\n",
       " 'data/cifar/train/42017_ship.png',\n",
       " 'data/cifar/train/38334_airplane.png',\n",
       " 'data/cifar/train/41146_airplane.png',\n",
       " 'data/cifar/train/12451_automobile.png',\n",
       " 'data/cifar/train/2346_bird.png',\n",
       " 'data/cifar/train/13427_deer.png',\n",
       " 'data/cifar/train/12851_dog.png',\n",
       " 'data/cifar/train/34932_frog.png',\n",
       " 'data/cifar/train/47233_horse.png',\n",
       " 'data/cifar/train/42689_truck.png',\n",
       " 'data/cifar/train/34241_horse.png',\n",
       " 'data/cifar/train/40110_ship.png',\n",
       " 'data/cifar/train/26427_airplane.png',\n",
       " 'data/cifar/train/19377_truck.png',\n",
       " 'data/cifar/train/7380_bird.png',\n",
       " 'data/cifar/train/44048_bird.png',\n",
       " 'data/cifar/train/22688_airplane.png',\n",
       " 'data/cifar/train/16777_automobile.png',\n",
       " 'data/cifar/train/94_automobile.png',\n",
       " 'data/cifar/train/31951_automobile.png',\n",
       " 'data/cifar/train/24287_dog.png',\n",
       " 'data/cifar/train/16851_cat.png',\n",
       " 'data/cifar/train/40846_deer.png',\n",
       " 'data/cifar/train/33637_truck.png',\n",
       " 'data/cifar/train/26572_bird.png',\n",
       " 'data/cifar/train/42978_automobile.png',\n",
       " 'data/cifar/train/12489_deer.png',\n",
       " 'data/cifar/train/40020_bird.png',\n",
       " 'data/cifar/train/40818_airplane.png',\n",
       " 'data/cifar/train/49287_truck.png',\n",
       " 'data/cifar/train/47517_deer.png',\n",
       " 'data/cifar/train/23377_airplane.png',\n",
       " 'data/cifar/train/7994_frog.png',\n",
       " 'data/cifar/train/14335_airplane.png',\n",
       " 'data/cifar/train/16127_ship.png',\n",
       " 'data/cifar/train/28033_airplane.png',\n",
       " 'data/cifar/train/1856_cat.png',\n",
       " 'data/cifar/train/12219_bird.png',\n",
       " 'data/cifar/train/44616_airplane.png',\n",
       " 'data/cifar/train/45410_deer.png',\n",
       " 'data/cifar/train/25039_frog.png',\n",
       " 'data/cifar/train/42549_dog.png',\n",
       " 'data/cifar/train/7483_cat.png',\n",
       " 'data/cifar/train/30018_ship.png',\n",
       " 'data/cifar/train/7762_frog.png',\n",
       " 'data/cifar/train/26879_airplane.png',\n",
       " 'data/cifar/train/22622_airplane.png',\n",
       " 'data/cifar/train/33081_bird.png',\n",
       " 'data/cifar/train/7907_airplane.png',\n",
       " 'data/cifar/train/26371_ship.png',\n",
       " 'data/cifar/train/4705_horse.png',\n",
       " 'data/cifar/train/25583_dog.png',\n",
       " 'data/cifar/train/20791_horse.png',\n",
       " 'data/cifar/train/36644_ship.png',\n",
       " 'data/cifar/train/12973_cat.png',\n",
       " 'data/cifar/train/29090_bird.png',\n",
       " 'data/cifar/train/36396_frog.png',\n",
       " 'data/cifar/train/20868_cat.png',\n",
       " 'data/cifar/train/39935_bird.png',\n",
       " 'data/cifar/train/31257_frog.png',\n",
       " 'data/cifar/train/18692_truck.png',\n",
       " 'data/cifar/train/2209_airplane.png',\n",
       " 'data/cifar/train/34743_ship.png',\n",
       " 'data/cifar/train/48893_bird.png',\n",
       " 'data/cifar/train/29466_deer.png',\n",
       " 'data/cifar/train/40445_ship.png',\n",
       " 'data/cifar/train/11813_bird.png',\n",
       " 'data/cifar/train/33903_cat.png',\n",
       " 'data/cifar/train/44127_cat.png',\n",
       " 'data/cifar/train/45323_deer.png',\n",
       " 'data/cifar/train/43258_frog.png',\n",
       " 'data/cifar/train/23671_deer.png',\n",
       " 'data/cifar/train/13255_truck.png',\n",
       " 'data/cifar/train/39663_dog.png',\n",
       " 'data/cifar/train/21980_deer.png',\n",
       " 'data/cifar/train/46585_airplane.png',\n",
       " 'data/cifar/train/38369_dog.png',\n",
       " 'data/cifar/train/8813_airplane.png',\n",
       " 'data/cifar/train/26791_dog.png',\n",
       " 'data/cifar/train/42472_bird.png',\n",
       " 'data/cifar/train/48755_ship.png',\n",
       " 'data/cifar/train/34885_bird.png',\n",
       " 'data/cifar/train/29822_automobile.png',\n",
       " 'data/cifar/train/18613_dog.png',\n",
       " 'data/cifar/train/32198_frog.png',\n",
       " 'data/cifar/train/12209_airplane.png',\n",
       " 'data/cifar/train/19319_dog.png',\n",
       " 'data/cifar/train/20910_airplane.png',\n",
       " 'data/cifar/train/49487_automobile.png',\n",
       " 'data/cifar/train/30288_cat.png',\n",
       " 'data/cifar/train/26362_automobile.png',\n",
       " 'data/cifar/train/3974_truck.png',\n",
       " 'data/cifar/train/11837_horse.png',\n",
       " 'data/cifar/train/25579_deer.png',\n",
       " 'data/cifar/train/46852_truck.png',\n",
       " 'data/cifar/train/27452_horse.png',\n",
       " 'data/cifar/train/24277_ship.png',\n",
       " 'data/cifar/train/19025_cat.png',\n",
       " 'data/cifar/train/19854_ship.png',\n",
       " 'data/cifar/train/19271_dog.png',\n",
       " 'data/cifar/train/11074_deer.png',\n",
       " 'data/cifar/train/44886_automobile.png',\n",
       " 'data/cifar/train/18916_horse.png',\n",
       " 'data/cifar/train/5143_deer.png',\n",
       " 'data/cifar/train/269_truck.png',\n",
       " 'data/cifar/train/21763_frog.png',\n",
       " 'data/cifar/train/37014_truck.png',\n",
       " 'data/cifar/train/11919_airplane.png',\n",
       " 'data/cifar/train/1140_truck.png',\n",
       " 'data/cifar/train/29444_airplane.png',\n",
       " 'data/cifar/train/13585_bird.png',\n",
       " 'data/cifar/train/22228_bird.png',\n",
       " 'data/cifar/train/44066_truck.png',\n",
       " 'data/cifar/train/29486_horse.png',\n",
       " 'data/cifar/train/28999_dog.png',\n",
       " 'data/cifar/train/8061_truck.png',\n",
       " 'data/cifar/train/20149_bird.png',\n",
       " 'data/cifar/train/2185_automobile.png',\n",
       " 'data/cifar/train/14475_truck.png',\n",
       " 'data/cifar/train/39716_airplane.png',\n",
       " 'data/cifar/train/46757_cat.png',\n",
       " 'data/cifar/train/601_ship.png',\n",
       " 'data/cifar/train/45144_deer.png',\n",
       " 'data/cifar/train/34414_bird.png',\n",
       " 'data/cifar/train/3914_horse.png',\n",
       " 'data/cifar/train/36383_deer.png',\n",
       " 'data/cifar/train/47686_automobile.png',\n",
       " 'data/cifar/train/8850_truck.png',\n",
       " 'data/cifar/train/26505_airplane.png',\n",
       " 'data/cifar/train/20024_truck.png',\n",
       " 'data/cifar/train/32407_truck.png',\n",
       " 'data/cifar/train/28163_automobile.png',\n",
       " 'data/cifar/train/42615_bird.png',\n",
       " 'data/cifar/train/13580_truck.png',\n",
       " 'data/cifar/train/29105_truck.png',\n",
       " 'data/cifar/train/19964_bird.png',\n",
       " 'data/cifar/train/44006_horse.png',\n",
       " 'data/cifar/train/45877_automobile.png',\n",
       " 'data/cifar/train/16473_ship.png',\n",
       " 'data/cifar/train/13063_truck.png',\n",
       " 'data/cifar/train/46639_truck.png',\n",
       " 'data/cifar/train/43804_automobile.png',\n",
       " 'data/cifar/train/35075_bird.png',\n",
       " 'data/cifar/train/44525_deer.png',\n",
       " 'data/cifar/train/14705_truck.png',\n",
       " 'data/cifar/train/31936_cat.png',\n",
       " 'data/cifar/train/38527_frog.png',\n",
       " 'data/cifar/train/9696_airplane.png',\n",
       " 'data/cifar/train/39633_horse.png',\n",
       " 'data/cifar/train/40772_dog.png',\n",
       " 'data/cifar/train/20295_airplane.png',\n",
       " 'data/cifar/train/6_bird.png',\n",
       " 'data/cifar/train/46644_deer.png',\n",
       " 'data/cifar/train/43874_deer.png',\n",
       " 'data/cifar/train/32542_deer.png',\n",
       " 'data/cifar/train/18705_deer.png',\n",
       " 'data/cifar/train/17012_ship.png',\n",
       " 'data/cifar/train/36970_cat.png',\n",
       " 'data/cifar/train/12996_frog.png',\n",
       " 'data/cifar/train/20354_truck.png',\n",
       " 'data/cifar/train/4623_truck.png',\n",
       " 'data/cifar/train/22390_dog.png',\n",
       " 'data/cifar/train/27792_automobile.png',\n",
       " 'data/cifar/train/43418_dog.png',\n",
       " 'data/cifar/train/42318_automobile.png',\n",
       " 'data/cifar/train/43682_deer.png',\n",
       " 'data/cifar/train/19949_frog.png',\n",
       " 'data/cifar/train/19434_dog.png',\n",
       " 'data/cifar/train/28950_ship.png',\n",
       " 'data/cifar/train/34689_cat.png',\n",
       " 'data/cifar/train/7839_cat.png',\n",
       " 'data/cifar/train/2578_airplane.png',\n",
       " 'data/cifar/train/29708_ship.png',\n",
       " 'data/cifar/train/10415_deer.png',\n",
       " 'data/cifar/train/3255_horse.png',\n",
       " 'data/cifar/train/11316_truck.png',\n",
       " 'data/cifar/train/44285_ship.png',\n",
       " 'data/cifar/train/43344_ship.png',\n",
       " 'data/cifar/train/5112_automobile.png',\n",
       " 'data/cifar/train/37042_ship.png',\n",
       " 'data/cifar/train/44537_automobile.png',\n",
       " 'data/cifar/train/948_horse.png',\n",
       " 'data/cifar/train/17122_bird.png',\n",
       " 'data/cifar/train/49805_deer.png',\n",
       " 'data/cifar/train/41154_cat.png',\n",
       " 'data/cifar/train/17344_bird.png',\n",
       " 'data/cifar/train/12593_dog.png',\n",
       " 'data/cifar/train/13373_horse.png',\n",
       " 'data/cifar/train/30689_dog.png',\n",
       " 'data/cifar/train/38755_deer.png',\n",
       " 'data/cifar/train/9154_ship.png',\n",
       " 'data/cifar/train/4369_horse.png',\n",
       " 'data/cifar/train/25470_ship.png',\n",
       " 'data/cifar/train/1974_deer.png',\n",
       " 'data/cifar/train/13938_frog.png',\n",
       " 'data/cifar/train/28260_deer.png',\n",
       " 'data/cifar/train/22450_automobile.png',\n",
       " 'data/cifar/train/4744_deer.png',\n",
       " 'data/cifar/train/29043_truck.png',\n",
       " 'data/cifar/train/47499_frog.png',\n",
       " 'data/cifar/train/49152_ship.png',\n",
       " 'data/cifar/train/4751_frog.png',\n",
       " 'data/cifar/train/42150_automobile.png',\n",
       " 'data/cifar/train/20311_automobile.png',\n",
       " 'data/cifar/train/28275_frog.png',\n",
       " 'data/cifar/train/13125_truck.png',\n",
       " 'data/cifar/train/17013_ship.png',\n",
       " 'data/cifar/train/41740_airplane.png',\n",
       " 'data/cifar/train/20304_automobile.png',\n",
       " 'data/cifar/train/32376_airplane.png',\n",
       " 'data/cifar/train/32588_truck.png',\n",
       " 'data/cifar/train/13974_horse.png',\n",
       " 'data/cifar/train/9203_bird.png',\n",
       " 'data/cifar/train/37585_deer.png',\n",
       " 'data/cifar/train/37743_automobile.png',\n",
       " 'data/cifar/train/47809_frog.png',\n",
       " 'data/cifar/train/1245_ship.png',\n",
       " 'data/cifar/train/41881_horse.png',\n",
       " 'data/cifar/train/5033_airplane.png',\n",
       " 'data/cifar/train/16583_cat.png',\n",
       " 'data/cifar/train/20481_truck.png',\n",
       " 'data/cifar/train/22210_deer.png',\n",
       " 'data/cifar/train/43683_deer.png',\n",
       " 'data/cifar/train/11263_airplane.png',\n",
       " 'data/cifar/train/386_horse.png',\n",
       " 'data/cifar/train/26948_ship.png',\n",
       " 'data/cifar/train/22810_bird.png',\n",
       " 'data/cifar/train/37315_bird.png',\n",
       " 'data/cifar/train/4283_ship.png',\n",
       " 'data/cifar/train/45310_cat.png',\n",
       " 'data/cifar/train/22956_truck.png',\n",
       " 'data/cifar/train/43556_horse.png',\n",
       " 'data/cifar/train/10400_frog.png',\n",
       " 'data/cifar/train/8976_horse.png',\n",
       " 'data/cifar/train/43697_frog.png',\n",
       " 'data/cifar/train/37478_truck.png',\n",
       " 'data/cifar/train/44045_airplane.png',\n",
       " 'data/cifar/train/1857_horse.png',\n",
       " 'data/cifar/train/3684_deer.png',\n",
       " 'data/cifar/train/22920_ship.png',\n",
       " 'data/cifar/train/24789_bird.png',\n",
       " 'data/cifar/train/4599_airplane.png',\n",
       " 'data/cifar/train/13939_frog.png',\n",
       " 'data/cifar/train/5599_frog.png',\n",
       " 'data/cifar/train/43884_horse.png',\n",
       " 'data/cifar/train/2584_automobile.png',\n",
       " 'data/cifar/train/35137_horse.png',\n",
       " 'data/cifar/train/41144_cat.png',\n",
       " 'data/cifar/train/39272_cat.png',\n",
       " 'data/cifar/train/3872_deer.png',\n",
       " 'data/cifar/train/31717_ship.png',\n",
       " 'data/cifar/train/4828_ship.png',\n",
       " 'data/cifar/train/26955_truck.png',\n",
       " 'data/cifar/train/26104_horse.png',\n",
       " 'data/cifar/train/8212_frog.png',\n",
       " 'data/cifar/train/47770_ship.png',\n",
       " 'data/cifar/train/2908_truck.png',\n",
       " 'data/cifar/train/3579_ship.png',\n",
       " 'data/cifar/train/19411_truck.png',\n",
       " 'data/cifar/train/2246_dog.png',\n",
       " 'data/cifar/train/8793_dog.png',\n",
       " 'data/cifar/train/46218_deer.png',\n",
       " 'data/cifar/train/49833_truck.png',\n",
       " 'data/cifar/train/13770_bird.png',\n",
       " 'data/cifar/train/16126_deer.png',\n",
       " 'data/cifar/train/11339_cat.png',\n",
       " 'data/cifar/train/17628_ship.png',\n",
       " 'data/cifar/train/24930_horse.png',\n",
       " 'data/cifar/train/36304_frog.png',\n",
       " 'data/cifar/train/41032_automobile.png',\n",
       " 'data/cifar/train/21616_dog.png',\n",
       " 'data/cifar/train/36839_horse.png',\n",
       " 'data/cifar/train/30048_airplane.png',\n",
       " 'data/cifar/train/21512_horse.png',\n",
       " 'data/cifar/train/47986_ship.png',\n",
       " 'data/cifar/train/36605_cat.png',\n",
       " 'data/cifar/train/34217_deer.png',\n",
       " 'data/cifar/train/7518_dog.png',\n",
       " 'data/cifar/train/15123_truck.png',\n",
       " 'data/cifar/train/5416_ship.png',\n",
       " 'data/cifar/train/19192_horse.png',\n",
       " 'data/cifar/train/21582_deer.png',\n",
       " 'data/cifar/train/40111_deer.png',\n",
       " 'data/cifar/train/26728_dog.png',\n",
       " 'data/cifar/train/43875_airplane.png',\n",
       " 'data/cifar/train/21912_deer.png',\n",
       " 'data/cifar/train/42686_dog.png',\n",
       " 'data/cifar/train/47887_horse.png',\n",
       " 'data/cifar/train/5854_horse.png',\n",
       " 'data/cifar/train/13426_ship.png',\n",
       " 'data/cifar/train/36859_truck.png',\n",
       " 'data/cifar/train/12_horse.png',\n",
       " 'data/cifar/train/4588_bird.png',\n",
       " 'data/cifar/train/45521_bird.png',\n",
       " 'data/cifar/train/40377_deer.png',\n",
       " 'data/cifar/train/43841_cat.png',\n",
       " 'data/cifar/train/25814_airplane.png',\n",
       " 'data/cifar/train/32451_cat.png',\n",
       " 'data/cifar/train/30688_bird.png',\n",
       " 'data/cifar/train/9701_truck.png',\n",
       " 'data/cifar/train/33033_cat.png',\n",
       " 'data/cifar/train/16275_automobile.png',\n",
       " 'data/cifar/train/48800_bird.png',\n",
       " 'data/cifar/train/1368_cat.png',\n",
       " 'data/cifar/train/14848_airplane.png',\n",
       " 'data/cifar/train/5527_bird.png',\n",
       " 'data/cifar/train/9944_cat.png',\n",
       " 'data/cifar/train/19935_automobile.png',\n",
       " 'data/cifar/train/5779_horse.png',\n",
       " 'data/cifar/train/12763_horse.png',\n",
       " 'data/cifar/train/24083_ship.png',\n",
       " 'data/cifar/train/47249_horse.png',\n",
       " 'data/cifar/train/17431_dog.png',\n",
       " 'data/cifar/train/41548_bird.png',\n",
       " 'data/cifar/train/32206_airplane.png',\n",
       " 'data/cifar/train/26640_dog.png',\n",
       " 'data/cifar/train/34221_dog.png',\n",
       " 'data/cifar/train/28848_automobile.png',\n",
       " 'data/cifar/train/46819_bird.png',\n",
       " 'data/cifar/train/19184_frog.png',\n",
       " 'data/cifar/train/38849_airplane.png',\n",
       " 'data/cifar/train/47929_dog.png',\n",
       " 'data/cifar/train/49409_automobile.png',\n",
       " 'data/cifar/train/19700_bird.png',\n",
       " 'data/cifar/train/4662_dog.png',\n",
       " 'data/cifar/train/45285_horse.png',\n",
       " 'data/cifar/train/48072_frog.png',\n",
       " 'data/cifar/train/23814_deer.png',\n",
       " 'data/cifar/train/40315_truck.png',\n",
       " 'data/cifar/train/25452_dog.png',\n",
       " 'data/cifar/train/42687_bird.png',\n",
       " 'data/cifar/train/35518_ship.png',\n",
       " 'data/cifar/train/39896_ship.png',\n",
       " 'data/cifar/train/49649_dog.png',\n",
       " 'data/cifar/train/17284_automobile.png',\n",
       " 'data/cifar/train/48214_frog.png',\n",
       " 'data/cifar/train/29687_frog.png',\n",
       " 'data/cifar/train/25614_automobile.png',\n",
       " 'data/cifar/train/6256_cat.png',\n",
       " 'data/cifar/train/36581_bird.png',\n",
       " 'data/cifar/train/13641_ship.png',\n",
       " 'data/cifar/train/36177_deer.png',\n",
       " 'data/cifar/train/26738_dog.png',\n",
       " 'data/cifar/train/16043_dog.png',\n",
       " 'data/cifar/train/24816_truck.png',\n",
       " 'data/cifar/train/23623_dog.png',\n",
       " 'data/cifar/train/43080_bird.png',\n",
       " 'data/cifar/train/45416_horse.png',\n",
       " 'data/cifar/train/57_bird.png',\n",
       " 'data/cifar/train/40019_ship.png',\n",
       " 'data/cifar/train/4210_ship.png',\n",
       " 'data/cifar/train/40834_horse.png',\n",
       " 'data/cifar/train/12159_truck.png',\n",
       " 'data/cifar/train/31016_cat.png',\n",
       " 'data/cifar/train/41433_automobile.png',\n",
       " 'data/cifar/train/25391_airplane.png',\n",
       " 'data/cifar/train/5601_cat.png',\n",
       " 'data/cifar/train/8168_ship.png',\n",
       " 'data/cifar/train/15640_cat.png',\n",
       " 'data/cifar/train/45715_automobile.png',\n",
       " 'data/cifar/train/30021_bird.png',\n",
       " 'data/cifar/train/9290_bird.png',\n",
       " 'data/cifar/train/42851_truck.png',\n",
       " 'data/cifar/train/27845_bird.png',\n",
       " 'data/cifar/train/1779_dog.png',\n",
       " 'data/cifar/train/44327_bird.png',\n",
       " 'data/cifar/train/47159_truck.png',\n",
       " 'data/cifar/train/15586_truck.png',\n",
       " 'data/cifar/train/27023_deer.png',\n",
       " 'data/cifar/train/3603_frog.png',\n",
       " 'data/cifar/train/26508_truck.png',\n",
       " 'data/cifar/train/10066_cat.png',\n",
       " 'data/cifar/train/9414_frog.png',\n",
       " 'data/cifar/train/8963_airplane.png',\n",
       " 'data/cifar/train/16452_cat.png',\n",
       " 'data/cifar/train/46900_automobile.png',\n",
       " 'data/cifar/train/37764_frog.png',\n",
       " 'data/cifar/train/40005_horse.png',\n",
       " 'data/cifar/train/41874_cat.png',\n",
       " 'data/cifar/train/15627_deer.png',\n",
       " 'data/cifar/train/6227_bird.png',\n",
       " 'data/cifar/train/17546_deer.png',\n",
       " 'data/cifar/train/19484_automobile.png',\n",
       " 'data/cifar/train/46176_ship.png',\n",
       " 'data/cifar/train/24027_truck.png',\n",
       " 'data/cifar/train/27783_ship.png',\n",
       " 'data/cifar/train/42831_horse.png',\n",
       " 'data/cifar/train/6041_bird.png',\n",
       " 'data/cifar/train/31012_truck.png',\n",
       " 'data/cifar/train/37992_frog.png',\n",
       " 'data/cifar/train/1180_bird.png',\n",
       " 'data/cifar/train/31538_truck.png',\n",
       " 'data/cifar/train/12580_deer.png',\n",
       " 'data/cifar/train/15441_deer.png',\n",
       " 'data/cifar/train/18966_dog.png',\n",
       " 'data/cifar/train/38962_horse.png',\n",
       " 'data/cifar/train/10217_bird.png',\n",
       " 'data/cifar/train/49297_bird.png',\n",
       " 'data/cifar/train/6639_automobile.png',\n",
       " 'data/cifar/train/14232_cat.png',\n",
       " 'data/cifar/train/37676_dog.png',\n",
       " 'data/cifar/train/25048_automobile.png',\n",
       " 'data/cifar/train/6316_ship.png',\n",
       " 'data/cifar/train/16379_bird.png',\n",
       " 'data/cifar/train/21207_cat.png',\n",
       " 'data/cifar/train/45344_airplane.png',\n",
       " 'data/cifar/train/45548_automobile.png',\n",
       " 'data/cifar/train/1563_frog.png',\n",
       " 'data/cifar/train/27709_automobile.png',\n",
       " 'data/cifar/train/39768_deer.png',\n",
       " 'data/cifar/train/37987_deer.png',\n",
       " 'data/cifar/train/6832_frog.png',\n",
       " 'data/cifar/train/37590_automobile.png',\n",
       " 'data/cifar/train/7495_automobile.png',\n",
       " 'data/cifar/train/49412_frog.png',\n",
       " 'data/cifar/train/30246_bird.png',\n",
       " 'data/cifar/train/44140_bird.png',\n",
       " 'data/cifar/train/14890_automobile.png',\n",
       " 'data/cifar/train/32127_bird.png',\n",
       " 'data/cifar/train/34068_automobile.png',\n",
       " 'data/cifar/train/18360_bird.png',\n",
       " 'data/cifar/train/6464_automobile.png',\n",
       " 'data/cifar/train/20421_dog.png',\n",
       " 'data/cifar/train/14076_dog.png',\n",
       " 'data/cifar/train/33719_deer.png',\n",
       " 'data/cifar/train/27175_airplane.png',\n",
       " 'data/cifar/train/46835_frog.png',\n",
       " 'data/cifar/train/32647_automobile.png',\n",
       " 'data/cifar/train/32652_automobile.png',\n",
       " 'data/cifar/train/25357_frog.png',\n",
       " 'data/cifar/train/18974_frog.png',\n",
       " 'data/cifar/train/48742_cat.png',\n",
       " 'data/cifar/train/32522_airplane.png',\n",
       " 'data/cifar/train/43372_automobile.png',\n",
       " 'data/cifar/train/12625_horse.png',\n",
       " 'data/cifar/train/24211_truck.png',\n",
       " 'data/cifar/train/45640_truck.png',\n",
       " 'data/cifar/train/39666_airplane.png',\n",
       " 'data/cifar/train/42849_deer.png',\n",
       " 'data/cifar/train/38930_deer.png',\n",
       " 'data/cifar/train/21381_horse.png',\n",
       " 'data/cifar/train/32271_ship.png',\n",
       " 'data/cifar/train/18036_ship.png',\n",
       " 'data/cifar/train/24757_cat.png',\n",
       " 'data/cifar/train/21325_dog.png',\n",
       " 'data/cifar/train/1782_ship.png',\n",
       " 'data/cifar/train/31139_frog.png',\n",
       " 'data/cifar/train/20826_deer.png',\n",
       " 'data/cifar/train/24503_dog.png',\n",
       " 'data/cifar/train/28006_ship.png',\n",
       " 'data/cifar/train/43230_horse.png',\n",
       " 'data/cifar/train/44781_dog.png',\n",
       " 'data/cifar/train/25086_bird.png',\n",
       " 'data/cifar/train/26363_dog.png',\n",
       " 'data/cifar/train/34702_dog.png',\n",
       " 'data/cifar/train/46382_deer.png',\n",
       " 'data/cifar/train/15843_ship.png',\n",
       " 'data/cifar/train/10673_ship.png',\n",
       " 'data/cifar/train/12734_dog.png',\n",
       " 'data/cifar/train/7307_cat.png',\n",
       " 'data/cifar/train/44885_bird.png',\n",
       " 'data/cifar/train/18635_bird.png',\n",
       " 'data/cifar/train/29198_bird.png',\n",
       " 'data/cifar/train/39040_automobile.png',\n",
       " 'data/cifar/train/4690_truck.png',\n",
       " 'data/cifar/train/6391_frog.png',\n",
       " 'data/cifar/train/20226_bird.png',\n",
       " 'data/cifar/train/2521_cat.png',\n",
       " 'data/cifar/train/25799_automobile.png',\n",
       " 'data/cifar/train/35698_horse.png',\n",
       " 'data/cifar/train/17309_automobile.png',\n",
       " 'data/cifar/train/25171_dog.png',\n",
       " 'data/cifar/train/1567_dog.png',\n",
       " 'data/cifar/train/27563_frog.png',\n",
       " 'data/cifar/train/1736_automobile.png',\n",
       " 'data/cifar/train/49837_airplane.png',\n",
       " 'data/cifar/train/7159_frog.png',\n",
       " 'data/cifar/train/1022_deer.png',\n",
       " 'data/cifar/train/38293_deer.png',\n",
       " 'data/cifar/train/23779_deer.png',\n",
       " 'data/cifar/train/17682_bird.png',\n",
       " 'data/cifar/train/32336_dog.png',\n",
       " 'data/cifar/train/1844_bird.png',\n",
       " 'data/cifar/train/480_truck.png',\n",
       " 'data/cifar/train/48660_dog.png',\n",
       " 'data/cifar/train/18399_dog.png',\n",
       " 'data/cifar/train/16560_dog.png',\n",
       " 'data/cifar/train/35124_cat.png',\n",
       " 'data/cifar/train/44646_truck.png',\n",
       " 'data/cifar/train/27711_dog.png',\n",
       " 'data/cifar/train/37634_truck.png',\n",
       " 'data/cifar/train/16800_automobile.png',\n",
       " 'data/cifar/train/19693_dog.png',\n",
       " 'data/cifar/train/29745_horse.png',\n",
       " 'data/cifar/train/21990_cat.png',\n",
       " 'data/cifar/train/39208_automobile.png',\n",
       " 'data/cifar/train/48708_dog.png',\n",
       " 'data/cifar/train/41580_truck.png',\n",
       " 'data/cifar/train/25980_dog.png',\n",
       " 'data/cifar/train/48468_truck.png',\n",
       " 'data/cifar/train/16408_dog.png',\n",
       " 'data/cifar/train/32455_airplane.png',\n",
       " 'data/cifar/train/27679_dog.png',\n",
       " 'data/cifar/train/24520_automobile.png',\n",
       " 'data/cifar/train/9933_bird.png',\n",
       " 'data/cifar/train/17102_dog.png',\n",
       " 'data/cifar/train/38754_ship.png',\n",
       " 'data/cifar/train/9155_deer.png',\n",
       " 'data/cifar/train/13475_truck.png',\n",
       " 'data/cifar/train/12513_ship.png',\n",
       " 'data/cifar/train/10310_cat.png',\n",
       " 'data/cifar/train/3079_truck.png',\n",
       " 'data/cifar/train/22457_horse.png',\n",
       " 'data/cifar/train/48728_automobile.png',\n",
       " 'data/cifar/train/44799_airplane.png',\n",
       " 'data/cifar/train/39155_horse.png',\n",
       " 'data/cifar/train/9318_automobile.png',\n",
       " 'data/cifar/train/12283_automobile.png',\n",
       " 'data/cifar/train/41036_airplane.png',\n",
       " 'data/cifar/train/3062_automobile.png',\n",
       " 'data/cifar/train/44791_dog.png',\n",
       " 'data/cifar/train/49320_frog.png',\n",
       " 'data/cifar/train/11410_horse.png',\n",
       " 'data/cifar/train/46983_bird.png',\n",
       " 'data/cifar/train/13209_frog.png',\n",
       " 'data/cifar/train/30444_ship.png',\n",
       " 'data/cifar/train/25021_truck.png',\n",
       " 'data/cifar/train/23806_automobile.png',\n",
       " 'data/cifar/train/37231_frog.png',\n",
       " 'data/cifar/train/753_automobile.png',\n",
       " 'data/cifar/train/19683_dog.png',\n",
       " 'data/cifar/train/32820_truck.png',\n",
       " 'data/cifar/train/13356_dog.png',\n",
       " 'data/cifar/train/14210_airplane.png',\n",
       " 'data/cifar/train/27701_dog.png',\n",
       " 'data/cifar/train/6772_bird.png',\n",
       " 'data/cifar/train/27815_truck.png',\n",
       " 'data/cifar/train/1540_airplane.png',\n",
       " 'data/cifar/train/21419_deer.png',\n",
       " 'data/cifar/train/38664_bird.png',\n",
       " 'data/cifar/train/12423_bird.png',\n",
       " 'data/cifar/train/32543_ship.png',\n",
       " 'data/cifar/train/11536_dog.png',\n",
       " 'data/cifar/train/32172_cat.png',\n",
       " 'data/cifar/train/30845_horse.png',\n",
       " 'data/cifar/train/20747_dog.png',\n",
       " 'data/cifar/train/15972_bird.png',\n",
       " 'data/cifar/train/10742_bird.png',\n",
       " 'data/cifar/train/45233_airplane.png',\n",
       " 'data/cifar/train/1723_cat.png',\n",
       " 'data/cifar/train/18391_airplane.png',\n",
       " 'data/cifar/train/48533_deer.png',\n",
       " 'data/cifar/train/40183_ship.png',\n",
       " 'data/cifar/train/47973_cat.png',\n",
       " 'data/cifar/train/11132_automobile.png',\n",
       " 'data/cifar/train/17858_frog.png',\n",
       " 'data/cifar/train/21724_cat.png',\n",
       " 'data/cifar/train/33345_cat.png',\n",
       " 'data/cifar/train/27729_bird.png',\n",
       " 'data/cifar/train/39495_deer.png',\n",
       " 'data/cifar/train/11700_truck.png',\n",
       " 'data/cifar/train/29730_bird.png',\n",
       " 'data/cifar/train/2120_dog.png',\n",
       " 'data/cifar/train/33696_frog.png',\n",
       " 'data/cifar/train/30364_truck.png',\n",
       " 'data/cifar/train/13042_bird.png',\n",
       " 'data/cifar/train/26103_frog.png',\n",
       " 'data/cifar/train/7045_ship.png',\n",
       " 'data/cifar/train/39335_ship.png',\n",
       " 'data/cifar/train/41313_truck.png',\n",
       " 'data/cifar/train/48718_truck.png',\n",
       " 'data/cifar/train/35690_airplane.png',\n",
       " 'data/cifar/train/29349_truck.png',\n",
       " 'data/cifar/train/16376_horse.png',\n",
       " 'data/cifar/train/40380_dog.png',\n",
       " 'data/cifar/train/24891_automobile.png',\n",
       " 'data/cifar/train/29600_ship.png',\n",
       " 'data/cifar/train/25570_cat.png',\n",
       " 'data/cifar/train/13705_truck.png',\n",
       " 'data/cifar/train/48618_airplane.png',\n",
       " 'data/cifar/train/18641_horse.png',\n",
       " 'data/cifar/train/16785_airplane.png',\n",
       " 'data/cifar/train/22553_automobile.png',\n",
       " 'data/cifar/train/45213_bird.png',\n",
       " 'data/cifar/train/18798_cat.png',\n",
       " 'data/cifar/train/47172_bird.png',\n",
       " 'data/cifar/train/18688_horse.png',\n",
       " 'data/cifar/train/23268_dog.png',\n",
       " 'data/cifar/train/46705_truck.png',\n",
       " 'data/cifar/train/6299_horse.png',\n",
       " 'data/cifar/train/6006_truck.png',\n",
       " 'data/cifar/train/31535_cat.png',\n",
       " 'data/cifar/train/22318_deer.png',\n",
       " 'data/cifar/train/5215_bird.png',\n",
       " 'data/cifar/train/4659_frog.png',\n",
       " 'data/cifar/train/16615_deer.png',\n",
       " 'data/cifar/train/14534_airplane.png',\n",
       " 'data/cifar/train/35893_truck.png',\n",
       " 'data/cifar/train/42053_automobile.png',\n",
       " 'data/cifar/train/24112_cat.png',\n",
       " 'data/cifar/train/45806_frog.png',\n",
       " 'data/cifar/train/49820_automobile.png',\n",
       " 'data/cifar/train/44390_cat.png',\n",
       " 'data/cifar/train/47963_cat.png',\n",
       " 'data/cifar/train/4628_cat.png',\n",
       " 'data/cifar/train/2544_deer.png',\n",
       " 'data/cifar/train/19102_ship.png',\n",
       " 'data/cifar/train/25449_bird.png',\n",
       " 'data/cifar/train/26364_frog.png',\n",
       " 'data/cifar/train/34284_ship.png',\n",
       " 'data/cifar/train/39062_bird.png',\n",
       " 'data/cifar/train/33355_cat.png',\n",
       " 'data/cifar/train/29485_automobile.png',\n",
       " 'data/cifar/train/29987_truck.png',\n",
       " 'data/cifar/train/37544_truck.png',\n",
       " 'data/cifar/train/29367_airplane.png',\n",
       " 'data/cifar/train/44017_airplane.png',\n",
       " 'data/cifar/train/5815_deer.png',\n",
       " 'data/cifar/train/24121_automobile.png',\n",
       " 'data/cifar/train/27618_ship.png',\n",
       " 'data/cifar/train/27162_truck.png',\n",
       " 'data/cifar/train/4945_automobile.png',\n",
       " 'data/cifar/train/7222_ship.png',\n",
       " 'data/cifar/train/13315_ship.png',\n",
       " 'data/cifar/train/759_horse.png',\n",
       " 'data/cifar/train/27448_truck.png',\n",
       " 'data/cifar/train/28474_automobile.png',\n",
       " 'data/cifar/train/42725_deer.png',\n",
       " 'data/cifar/train/26786_bird.png',\n",
       " 'data/cifar/train/20346_cat.png',\n",
       " 'data/cifar/train/33079_dog.png',\n",
       " 'data/cifar/train/25107_horse.png',\n",
       " 'data/cifar/train/473_frog.png',\n",
       " 'data/cifar/train/39334_ship.png',\n",
       " 'data/cifar/train/18618_frog.png',\n",
       " 'data/cifar/train/48526_frog.png',\n",
       " 'data/cifar/train/45812_deer.png',\n",
       " 'data/cifar/train/45074_bird.png',\n",
       " 'data/cifar/train/41974_horse.png',\n",
       " 'data/cifar/train/26226_airplane.png',\n",
       " 'data/cifar/train/10669_dog.png',\n",
       " 'data/cifar/train/10764_airplane.png',\n",
       " 'data/cifar/train/16911_truck.png',\n",
       " 'data/cifar/train/29601_ship.png',\n",
       " 'data/cifar/train/19388_cat.png',\n",
       " 'data/cifar/train/42665_deer.png',\n",
       " 'data/cifar/train/6072_horse.png',\n",
       " 'data/cifar/train/47855_deer.png',\n",
       " 'data/cifar/train/29226_automobile.png',\n",
       " 'data/cifar/train/8497_dog.png',\n",
       " 'data/cifar/train/755_frog.png',\n",
       " 'data/cifar/train/11068_horse.png',\n",
       " 'data/cifar/train/34361_cat.png',\n",
       " 'data/cifar/train/3448_dog.png',\n",
       " 'data/cifar/train/31054_bird.png',\n",
       " 'data/cifar/train/19584_deer.png',\n",
       " 'data/cifar/train/48600_frog.png',\n",
       " 'data/cifar/train/267_horse.png',\n",
       " 'data/cifar/train/39856_truck.png',\n",
       " 'data/cifar/train/21197_deer.png',\n",
       " 'data/cifar/train/11269_dog.png',\n",
       " 'data/cifar/train/11352_ship.png',\n",
       " 'data/cifar/train/34464_deer.png',\n",
       " 'data/cifar/train/9804_dog.png',\n",
       " 'data/cifar/train/7104_ship.png',\n",
       " 'data/cifar/train/15311_cat.png',\n",
       " 'data/cifar/train/40814_automobile.png',\n",
       " 'data/cifar/train/42403_deer.png',\n",
       " 'data/cifar/train/47255_bird.png',\n",
       " 'data/cifar/train/35354_airplane.png',\n",
       " 'data/cifar/train/27116_horse.png',\n",
       " 'data/cifar/train/21183_frog.png',\n",
       " 'data/cifar/train/21455_automobile.png',\n",
       " 'data/cifar/train/16214_airplane.png',\n",
       " 'data/cifar/train/42582_dog.png',\n",
       " 'data/cifar/train/31826_frog.png',\n",
       " 'data/cifar/train/48389_airplane.png',\n",
       " 'data/cifar/train/26042_frog.png',\n",
       " 'data/cifar/train/13725_cat.png',\n",
       " 'data/cifar/train/43088_dog.png',\n",
       " 'data/cifar/train/42671_frog.png',\n",
       " 'data/cifar/train/8655_airplane.png',\n",
       " 'data/cifar/train/6012_truck.png',\n",
       " 'data/cifar/train/35547_dog.png',\n",
       " 'data/cifar/train/11862_deer.png',\n",
       " 'data/cifar/train/47532_automobile.png',\n",
       " 'data/cifar/train/29417_bird.png',\n",
       " 'data/cifar/train/24145_frog.png',\n",
       " 'data/cifar/train/34601_airplane.png',\n",
       " 'data/cifar/train/13547_horse.png',\n",
       " 'data/cifar/train/25173_truck.png',\n",
       " 'data/cifar/train/23084_frog.png',\n",
       " 'data/cifar/train/1104_cat.png',\n",
       " 'data/cifar/train/26590_ship.png',\n",
       " 'data/cifar/train/4826_truck.png',\n",
       " 'data/cifar/train/37173_cat.png',\n",
       " 'data/cifar/train/21451_ship.png',\n",
       " 'data/cifar/train/15269_cat.png',\n",
       " 'data/cifar/train/8897_horse.png',\n",
       " 'data/cifar/train/36511_cat.png',\n",
       " 'data/cifar/train/47901_cat.png',\n",
       " 'data/cifar/train/13711_truck.png',\n",
       " 'data/cifar/train/48226_truck.png',\n",
       " 'data/cifar/train/2411_frog.png',\n",
       " 'data/cifar/train/33163_dog.png',\n",
       " 'data/cifar/train/10527_cat.png',\n",
       " 'data/cifar/train/21502_dog.png',\n",
       " 'data/cifar/train/44297_horse.png',\n",
       " 'data/cifar/train/33337_cat.png',\n",
       " 'data/cifar/train/43879_dog.png',\n",
       " 'data/cifar/train/44579_frog.png',\n",
       " 'data/cifar/train/33152_bird.png',\n",
       " 'data/cifar/train/532_frog.png',\n",
       " 'data/cifar/train/27340_truck.png',\n",
       " 'data/cifar/train/33198_automobile.png',\n",
       " 'data/cifar/train/47098_cat.png',\n",
       " 'data/cifar/train/39231_horse.png',\n",
       " 'data/cifar/train/22219_horse.png',\n",
       " 'data/cifar/train/23136_cat.png',\n",
       " 'data/cifar/train/35280_truck.png',\n",
       " 'data/cifar/train/42664_deer.png',\n",
       " 'data/cifar/train/11791_automobile.png',\n",
       " 'data/cifar/train/20991_dog.png',\n",
       " 'data/cifar/train/29292_frog.png',\n",
       " 'data/cifar/train/37982_cat.png',\n",
       " 'data/cifar/train/41155_automobile.png',\n",
       " 'data/cifar/train/19585_deer.png',\n",
       " 'data/cifar/train/28228_deer.png',\n",
       " 'data/cifar/train/42416_frog.png',\n",
       " 'data/cifar/train/5132_bird.png',\n",
       " 'data/cifar/train/4241_horse.png',\n",
       " 'data/cifar/train/16302_truck.png',\n",
       " 'data/cifar/train/8460_frog.png',\n",
       " 'data/cifar/train/23731_ship.png',\n",
       " 'data/cifar/train/526_deer.png',\n",
       " 'data/cifar/train/25998_bird.png',\n",
       " 'data/cifar/train/39945_deer.png',\n",
       " 'data/cifar/train/37163_cat.png',\n",
       " 'data/cifar/train/37285_truck.png',\n",
       " 'data/cifar/train/15279_cat.png',\n",
       " 'data/cifar/train/32511_dog.png',\n",
       " 'data/cifar/train/44714_truck.png',\n",
       " 'data/cifar/train/24991_cat.png',\n",
       " 'data/cifar/train/22753_truck.png',\n",
       " 'data/cifar/train/49733_automobile.png',\n",
       " 'data/cifar/train/28918_ship.png',\n",
       " 'data/cifar/train/44282_automobile.png',\n",
       " 'data/cifar/train/36576_frog.png',\n",
       " 'data/cifar/train/22259_deer.png',\n",
       " 'data/cifar/train/28091_cat.png',\n",
       " 'data/cifar/train/27320_horse.png',\n",
       " 'data/cifar/train/2717_dog.png',\n",
       " 'data/cifar/train/16591_truck.png',\n",
       " 'data/cifar/train/32586_horse.png',\n",
       " 'data/cifar/train/46046_airplane.png',\n",
       " 'data/cifar/train/48859_airplane.png',\n",
       " 'data/cifar/train/18396_frog.png',\n",
       " 'data/cifar/train/35470_airplane.png',\n",
       " 'data/cifar/train/36899_dog.png',\n",
       " 'data/cifar/train/30504_ship.png',\n",
       " 'data/cifar/train/47489_dog.png',\n",
       " 'data/cifar/train/9471_airplane.png',\n",
       " 'data/cifar/train/30762_ship.png',\n",
       " 'data/cifar/train/34125_airplane.png',\n",
       " 'data/cifar/train/43591_truck.png',\n",
       " 'data/cifar/train/23638_deer.png',\n",
       " 'data/cifar/train/23548_automobile.png',\n",
       " 'data/cifar/train/5751_dog.png',\n",
       " 'data/cifar/train/13991_cat.png',\n",
       " 'data/cifar/train/31935_automobile.png',\n",
       " 'data/cifar/train/22958_horse.png',\n",
       " 'data/cifar/train/11668_cat.png',\n",
       " 'data/cifar/train/43558_truck.png',\n",
       " 'data/cifar/train/3895_truck.png',\n",
       " 'data/cifar/train/18644_ship.png',\n",
       " 'data/cifar/train/35473_horse.png',\n",
       " 'data/cifar/train/13170_cat.png',\n",
       " 'data/cifar/train/8129_horse.png',\n",
       " 'data/cifar/train/49107_airplane.png',\n",
       " 'data/cifar/train/29507_truck.png',\n",
       " 'data/cifar/train/4900_horse.png',\n",
       " 'data/cifar/train/3070_frog.png',\n",
       " 'data/cifar/train/41302_deer.png',\n",
       " 'data/cifar/train/22006_bird.png',\n",
       " 'data/cifar/train/35862_bird.png',\n",
       " 'data/cifar/train/15906_automobile.png',\n",
       " 'data/cifar/train/32720_automobile.png',\n",
       " 'data/cifar/train/321_horse.png',\n",
       " 'data/cifar/train/27030_truck.png',\n",
       " 'data/cifar/train/779_bird.png',\n",
       " 'data/cifar/train/13260_airplane.png',\n",
       " 'data/cifar/train/4177_cat.png',\n",
       " 'data/cifar/train/26338_ship.png',\n",
       " 'data/cifar/train/2630_automobile.png',\n",
       " 'data/cifar/train/22169_horse.png',\n",
       " 'data/cifar/train/44732_bird.png',\n",
       " 'data/cifar/train/14077_truck.png',\n",
       " 'data/cifar/train/15040_frog.png',\n",
       " 'data/cifar/train/24059_ship.png',\n",
       " 'data/cifar/train/9273_deer.png',\n",
       " 'data/cifar/train/20967_deer.png',\n",
       " 'data/cifar/train/26809_deer.png',\n",
       " 'data/cifar/train/20972_frog.png',\n",
       " 'data/cifar/train/34347_automobile.png',\n",
       " 'data/cifar/train/49683_bird.png',\n",
       " 'data/cifar/train/3711_horse.png',\n",
       " 'data/cifar/train/33599_automobile.png',\n",
       " 'data/cifar/train/43210_frog.png',\n",
       " 'data/cifar/train/926_horse.png',\n",
       " 'data/cifar/train/18645_ship.png',\n",
       " 'data/cifar/train/855_automobile.png',\n",
       " 'data/cifar/train/840_automobile.png',\n",
       " 'data/cifar/train/46704_ship.png',\n",
       " 'data/cifar/train/21103_cat.png',\n",
       " 'data/cifar/train/32779_horse.png',\n",
       " 'data/cifar/train/23763_cat.png',\n",
       " 'data/cifar/train/49013_deer.png',\n",
       " 'data/cifar/train/24168_bird.png',\n",
       " 'data/cifar/train/1774_truck.png',\n",
       " 'data/cifar/train/41833_ship.png',\n",
       " 'data/cifar/train/45672_automobile.png',\n",
       " 'data/cifar/train/49261_frog.png',\n",
       " 'data/cifar/train/778_bird.png',\n",
       " 'data/cifar/train/20571_cat.png',\n",
       " 'data/cifar/train/23199_ship.png',\n",
       " 'data/cifar/train/35625_truck.png',\n",
       " 'data/cifar/train/20966_deer.png',\n",
       " 'data/cifar/train/23796_airplane.png',\n",
       " 'data/cifar/train/28826_airplane.png',\n",
       " 'data/cifar/train/15041_frog.png',\n",
       " 'data/cifar/train/1176_frog.png',\n",
       " 'data/cifar/train/16224_horse.png',\n",
       " 'data/cifar/train/15227_frog.png',\n",
       " 'data/cifar/train/6565_ship.png',\n",
       " 'data/cifar/train/4684_truck.png',\n",
       " 'data/cifar/train/12452_ship.png',\n",
       " 'data/cifar/train/28487_airplane.png',\n",
       " 'data/cifar/train/13657_truck.png',\n",
       " 'data/cifar/train/28494_frog.png',\n",
       " 'data/cifar/train/16746_cat.png',\n",
       " 'data/cifar/train/44684_frog.png',\n",
       " 'data/cifar/train/23613_truck.png',\n",
       " 'data/cifar/train/22462_ship.png',\n",
       " 'data/cifar/train/44485_dog.png',\n",
       " 'data/cifar/train/7687_truck.png',\n",
       " 'data/cifar/train/15476_dog.png',\n",
       " 'data/cifar/train/31757_airplane.png',\n",
       " 'data/cifar/train/15990_deer.png',\n",
       " 'data/cifar/train/42361_airplane.png',\n",
       " 'data/cifar/train/30257_airplane.png',\n",
       " 'data/cifar/train/24355_airplane.png',\n",
       " 'data/cifar/train/32331_ship.png',\n",
       " 'data/cifar/train/38016_bird.png',\n",
       " 'data/cifar/train/23641_dog.png',\n",
       " ...]"
      ]
     },
     "execution_count": 96,
     "metadata": {},
     "output_type": "execute_result"
    }
   ],
   "source": [
    "data_paths = glob('data/cifar/train/*.png')\n",
    "data_paths"
   ]
  },
  {
   "cell_type": "code",
   "execution_count": 10,
   "metadata": {},
   "outputs": [
    {
     "data": {
      "text/plain": [
       "'data/cifar/train/32270_deer.png'"
      ]
     },
     "execution_count": 10,
     "metadata": {},
     "output_type": "execute_result"
    }
   ],
   "source": [
    "path = data_paths[0]\n",
    "path"
   ]
  },
  {
   "cell_type": "code",
   "execution_count": 14,
   "metadata": {},
   "outputs": [],
   "source": [
    "gfile = tf.io.read_file(path)\n",
    "image = tf.io.decode_image(gfile)"
   ]
  },
  {
   "cell_type": "code",
   "execution_count": 16,
   "metadata": {},
   "outputs": [
    {
     "data": {
      "text/plain": [
       "<tf.Tensor: shape=(32, 32, 3), dtype=uint8, numpy=\n",
       "array([[[191, 194, 175],\n",
       "        [182, 185, 165],\n",
       "        [182, 186, 164],\n",
       "        ...,\n",
       "        [191, 194, 172],\n",
       "        [188, 191, 171],\n",
       "        [188, 191, 173]],\n",
       "\n",
       "       [[175, 177, 156],\n",
       "        [146, 149, 122],\n",
       "        [145, 148, 117],\n",
       "        ...,\n",
       "        [151, 157, 119],\n",
       "        [151, 157, 123],\n",
       "        [166, 171, 143]],\n",
       "\n",
       "       [[177, 177, 154],\n",
       "        [137, 139, 106],\n",
       "        [119, 122,  79],\n",
       "        ...,\n",
       "        [119, 128,  74],\n",
       "        [137, 144,  99],\n",
       "        [171, 177, 142]],\n",
       "\n",
       "       ...,\n",
       "\n",
       "       [[174, 180, 148],\n",
       "        [134, 140,  91],\n",
       "        [102, 109,  44],\n",
       "        ...,\n",
       "        [ 91, 104,  53],\n",
       "        [134, 145, 103],\n",
       "        [164, 170, 140]],\n",
       "\n",
       "       [[163, 173, 140],\n",
       "        [121, 134,  86],\n",
       "        [113, 129,  67],\n",
       "        ...,\n",
       "        [134, 146, 101],\n",
       "        [143, 153, 115],\n",
       "        [167, 173, 144]],\n",
       "\n",
       "       [[168, 176, 150],\n",
       "        [145, 157, 123],\n",
       "        [146, 162, 121],\n",
       "        ...,\n",
       "        [174, 185, 150],\n",
       "        [165, 174, 144],\n",
       "        [176, 181, 158]]], dtype=uint8)>"
      ]
     },
     "execution_count": 16,
     "metadata": {},
     "output_type": "execute_result"
    }
   ],
   "source": [
    "image"
   ]
  },
  {
   "cell_type": "code",
   "execution_count": 17,
   "metadata": {},
   "outputs": [
    {
     "data": {
      "text/plain": [
       "TensorShape([32, 32, 3])"
      ]
     },
     "execution_count": 17,
     "metadata": {},
     "output_type": "execute_result"
    }
   ],
   "source": [
    "image.shape"
   ]
  },
  {
   "cell_type": "code",
   "execution_count": 22,
   "metadata": {},
   "outputs": [
    {
     "data": {
      "image/png": "[encoded data removed]",
      "text/plain": [
       "<Figure size 432x288 with 1 Axes>"
      ]
     },
     "metadata": {
      "needs_background": "light"
     },
     "output_type": "display_data"
    }
   ],
   "source": [
    "plt.imshow(image)\n",
    "plt.title(os.path.basename(path))\n",
    "plt.show()"
   ]
  },
  {
   "cell_type": "code",
   "execution_count": 23,
   "metadata": {},
   "outputs": [],
   "source": [
    "# tf_data를 사용"
   ]
  },
  {
   "cell_type": "code",
   "execution_count": 25,
   "metadata": {},
   "outputs": [],
   "source": [
    "def read_image(path):\n",
    "    gfile = tf.io.read_file(path)\n",
    "    image = tf.io.decode_image(gfile)\n",
    "    return image"
   ]
  },
  {
   "cell_type": "code",
   "execution_count": 29,
   "metadata": {},
   "outputs": [],
   "source": [
    "# genetator\n",
    "dataset = tf.data.Dataset.from_tensor_slices(data_paths)\n",
    "dataset = dataset.map(read_image)"
   ]
  },
  {
   "cell_type": "code",
   "execution_count": 32,
   "metadata": {},
   "outputs": [
    {
     "data": {
      "text/plain": [
       "TensorShape([32, 32, 3])"
      ]
     },
     "execution_count": 32,
     "metadata": {},
     "output_type": "execute_result"
    }
   ],
   "source": [
    "tf_image = next(iter(dataset))\n",
    "tf_image.shape"
   ]
  },
  {
   "cell_type": "code",
   "execution_count": 34,
   "metadata": {},
   "outputs": [
    {
     "data": {
      "image/png": "[encoded data removed]",
      "text/plain": [
       "<Figure size 432x288 with 1 Axes>"
      ]
     },
     "metadata": {
      "needs_background": "light"
     },
     "output_type": "display_data"
    }
   ],
   "source": [
    "plt.imshow(tf_image)\n",
    "plt.show()"
   ]
  },
  {
   "cell_type": "code",
   "execution_count": 37,
   "metadata": {},
   "outputs": [],
   "source": [
    "# genetator\n",
    "dataset = tf.data.Dataset.from_tensor_slices(data_paths)\n",
    "dataset = dataset.map(read_image)\n",
    "dataset = dataset.batch(8)"
   ]
  },
  {
   "cell_type": "code",
   "execution_count": 38,
   "metadata": {},
   "outputs": [
    {
     "data": {
      "text/plain": [
       "TensorShape([8, 32, 32, 3])"
      ]
     },
     "execution_count": 38,
     "metadata": {},
     "output_type": "execute_result"
    }
   ],
   "source": [
    "tf_image = next(iter(dataset))\n",
    "tf_image.shape"
   ]
  },
  {
   "cell_type": "code",
   "execution_count": 41,
   "metadata": {},
   "outputs": [
    {
     "data": {
      "image/png": "[encoded data removed]",
      "text/plain": [
       "<Figure size 432x288 with 1 Axes>"
      ]
     },
     "metadata": {
      "needs_background": "light"
     },
     "output_type": "display_data"
    }
   ],
   "source": [
    "plt.imshow(tf_image[1])\n",
    "plt.show()"
   ]
  },
  {
   "cell_type": "code",
   "execution_count": 43,
   "metadata": {},
   "outputs": [],
   "source": [
    "# genetator\n",
    "dataset = tf.data.Dataset.from_tensor_slices(data_paths) # 데이터 경로를 넣음\n",
    "dataset = dataset.map(read_image) # 함수를 넣음\n",
    "dataset = dataset.batch(8)\n",
    "dataset = dataset.shuffle(buffer_size = len(data_paths))"
   ]
  },
  {
   "cell_type": "code",
   "execution_count": 45,
   "metadata": {},
   "outputs": [
    {
     "data": {
      "text/plain": [
       "<matplotlib.image.AxesImage at 0x7fa1a0410820>"
      ]
     },
     "execution_count": 45,
     "metadata": {},
     "output_type": "execute_result"
    },
    {
     "data": {
      "image/png": "[encoded data removed]",
      "text/plain": [
       "<Figure size 432x288 with 1 Axes>"
      ]
     },
     "metadata": {
      "needs_background": "light"
     },
     "output_type": "display_data"
    }
   ],
   "source": [
    "tf_image = next(iter(dataset))\n",
    "\n",
    "plt.imshow(tf_image[0])"
   ]
  },
  {
   "cell_type": "code",
   "execution_count": 46,
   "metadata": {},
   "outputs": [
    {
     "data": {
      "text/plain": [
       "'data/cifar/train/32270_deer.png'"
      ]
     },
     "execution_count": 46,
     "metadata": {},
     "output_type": "execute_result"
    }
   ],
   "source": [
    "path"
   ]
  },
  {
   "cell_type": "code",
   "execution_count": 48,
   "metadata": {},
   "outputs": [],
   "source": [
    "class_name = path.split('_')[1].split('.png')[0]"
   ]
  },
  {
   "cell_type": "code",
   "execution_count": 49,
   "metadata": {},
   "outputs": [],
   "source": [
    "def get_label(path):\n",
    "    return path.split('_')[1].split('.png')[0]"
   ]
  },
  {
   "cell_type": "code",
   "execution_count": 51,
   "metadata": {},
   "outputs": [
    {
     "data": {
      "text/plain": [
       "['deer',\n",
       " 'cat',\n",
       " 'deer',\n",
       " 'truck',\n",
       " 'automobile',\n",
       " 'bird',\n",
       " 'horse',\n",
       " 'frog',\n",
       " 'ship',\n",
       " 'ship']"
      ]
     },
     "execution_count": 51,
     "metadata": {},
     "output_type": "execute_result"
    }
   ],
   "source": [
    "label_names = [ get_label(path) for path in data_paths]\n",
    "label_names[:10]"
   ]
  },
  {
   "cell_type": "code",
   "execution_count": 53,
   "metadata": {},
   "outputs": [
    {
     "data": {
      "text/plain": [
       "array(['airplane', 'automobile', 'bird', 'cat', 'deer', 'dog', 'frog',\n",
       "       'horse', 'ship', 'truck'], dtype='<U10')"
      ]
     },
     "execution_count": 53,
     "metadata": {},
     "output_type": "execute_result"
    }
   ],
   "source": [
    "class_names = np.unique(label_names)\n",
    "class_names"
   ]
  },
  {
   "cell_type": "code",
   "execution_count": 56,
   "metadata": {},
   "outputs": [
    {
     "data": {
      "text/plain": [
       "array([False, False, False, False, False, False,  True, False, False,\n",
       "       False])"
      ]
     },
     "execution_count": 56,
     "metadata": {},
     "output_type": "execute_result"
    }
   ],
   "source": [
    "np.array(class_names=='frog')"
   ]
  },
  {
   "cell_type": "code",
   "execution_count": 73,
   "metadata": {},
   "outputs": [],
   "source": [
    "def ohe(label):\n",
    "    return np.array(class_names==label, np.uint8)"
   ]
  },
  {
   "cell_type": "code",
   "execution_count": 74,
   "metadata": {},
   "outputs": [],
   "source": [
    "def get_label(path):\n",
    "    return path.split('_')[1].split('.png')[0]"
   ]
  },
  {
   "cell_type": "code",
   "execution_count": 75,
   "metadata": {},
   "outputs": [],
   "source": [
    "def read_image(path, alpha):\n",
    "    gfile = tf.io.read_file(path)\n",
    "    image = tf.io.decode_image(gfile)\n",
    "    return image, alpha"
   ]
  },
  {
   "cell_type": "code",
   "execution_count": 79,
   "metadata": {},
   "outputs": [],
   "source": [
    "dataset = tf.data.Dataset.from_tensor_slices((data_paths, label_names))\n",
    "dataset = dataset.map(read_image)\n",
    "dataset = dataset.batch(32)\n",
    "# dataset = dataset.shuffle(len(dataset))\n",
    "dataset = dataset.repeat()"
   ]
  },
  {
   "cell_type": "code",
   "execution_count": 80,
   "metadata": {},
   "outputs": [
    {
     "data": {
      "text/plain": [
       "(TensorShape([32, 32, 32, 3]), TensorShape([32]))"
      ]
     },
     "execution_count": 80,
     "metadata": {},
     "output_type": "execute_result"
    }
   ],
   "source": [
    "image, label = next(iter(dataset))\n",
    "image.shape, label.shape"
   ]
  },
  {
   "cell_type": "code",
   "execution_count": 81,
   "metadata": {},
   "outputs": [
    {
     "data": {
      "text/plain": [
       "<tf.Tensor: shape=(), dtype=string, numpy=b'deer'>"
      ]
     },
     "execution_count": 81,
     "metadata": {},
     "output_type": "execute_result"
    }
   ],
   "source": [
    "label[0]"
   ]
  },
  {
   "cell_type": "code",
   "execution_count": 82,
   "metadata": {},
   "outputs": [
    {
     "data": {
      "image/png": "[encoded data removed]",
      "text/plain": [
       "<Figure size 432x288 with 1 Axes>"
      ]
     },
     "metadata": {
      "needs_background": "light"
     },
     "output_type": "display_data"
    }
   ],
   "source": [
    "plt.imshow(image[0])\n",
    "plt.title(np.array(label[0]))\n",
    "plt.show()"
   ]
  },
  {
   "cell_type": "code",
   "execution_count": 93,
   "metadata": {},
   "outputs": [],
   "source": [
    "def read_image_label(path):\n",
    "    gfile = tf.io.read_file(path)\n",
    "    image = tf.io.decode_image(gfile)\n",
    "    \n",
    "    label = get_label(path)\n",
    "    label = np.array(class_names==label, np.uint8)\n",
    "    return image, label"
   ]
  },
  {
   "cell_type": "code",
   "execution_count": null,
   "metadata": {},
   "outputs": [],
   "source": []
  },
  {
   "cell_type": "markdown",
   "metadata": {},
   "source": [
    "#### Data Preprocessing"
   ]
  },
  {
   "cell_type": "code",
   "execution_count": 102,
   "metadata": {},
   "outputs": [],
   "source": [
    "train_paths = glob('data/cifar/train/*.png')\n",
    "test_paths = glob('data/cifar/test/*.png')"
   ]
  },
  {
   "cell_type": "code",
   "execution_count": 106,
   "metadata": {},
   "outputs": [
    {
     "data": {
      "text/plain": [
       "['data/cifar/train/32270_deer.png',\n",
       " 'data/cifar/train/21851_cat.png',\n",
       " 'data/cifar/train/48309_deer.png',\n",
       " 'data/cifar/train/33547_truck.png']"
      ]
     },
     "execution_count": 106,
     "metadata": {},
     "output_type": "execute_result"
    }
   ],
   "source": [
    "train_paths[:4]"
   ]
  },
  {
   "cell_type": "code",
   "execution_count": 107,
   "metadata": {},
   "outputs": [
    {
     "data": {
      "text/plain": [
       "'data/cifar/train/32270_deer.png'"
      ]
     },
     "execution_count": 107,
     "metadata": {},
     "output_type": "execute_result"
    }
   ],
   "source": [
    "path = train_paths[0]\n",
    "path"
   ]
  },
  {
   "cell_type": "code",
   "execution_count": 133,
   "metadata": {},
   "outputs": [],
   "source": [
    "def get_class_name(path):\n",
    "    fname = tf.strings.split(path,'_')[-1]\n",
    "    return tf.strings.regex_replace(fname,'.png','')"
   ]
  },
  {
   "cell_type": "code",
   "execution_count": 110,
   "metadata": {},
   "outputs": [
    {
     "data": {
      "text/plain": [
       "('data/cifar/train/32270_deer.png', 'deer')"
      ]
     },
     "execution_count": 110,
     "metadata": {},
     "output_type": "execute_result"
    }
   ],
   "source": [
    "path, get_class_name(path)"
   ]
  },
  {
   "cell_type": "code",
   "execution_count": 118,
   "metadata": {},
   "outputs": [],
   "source": [
    "class_names= [ get_class_name(path) for path in train_paths]\n",
    "classes = np.unique(class_names)"
   ]
  },
  {
   "cell_type": "code",
   "execution_count": 120,
   "metadata": {},
   "outputs": [
    {
     "data": {
      "text/plain": [
       "array([False, False, False, False,  True, False, False, False, False,\n",
       "       False])"
      ]
     },
     "execution_count": 120,
     "metadata": {},
     "output_type": "execute_result"
    }
   ],
   "source": [
    "classes\n",
    "classes == get_class_name(path)"
   ]
  },
  {
   "cell_type": "code",
   "execution_count": 125,
   "metadata": {},
   "outputs": [
    {
     "data": {
      "text/plain": [
       "<tf.Tensor: shape=(10,), dtype=uint8, numpy=array([0, 0, 0, 0, 1, 0, 0, 0, 0, 0], dtype=uint8)>"
      ]
     },
     "execution_count": 125,
     "metadata": {},
     "output_type": "execute_result"
    }
   ],
   "source": [
    "ohe = tf.castdef get_class_name(path):\n",
    "    fname = tf.strings.split(path,'_')[-1]\n",
    "    return tf.strings.regex_replace(fname,'.png','')(classes == get_class_name(path),tf.uint8)\n",
    "ohe"
   ]
  },
  {
   "cell_type": "code",
   "execution_count": 156,
   "metadata": {},
   "outputs": [],
   "source": [
    "def get_class_name(path):\n",
    "    fname = tf.strings.split(path,'_')[-1]\n",
    "    return tf.strings.regex_replace(fname,'.png','')"
   ]
  },
  {
   "cell_type": "code",
   "execution_count": 157,
   "metadata": {},
   "outputs": [],
   "source": [
    "def ohe(label):\n",
    "    classes == get_class_name(label)\n",
    "    ohe_class = tf.cast(classes == get_class_name(path),tf.uint8)\n",
    "    return ohe_class"
   ]
  },
  {
   "cell_type": "code",
   "execution_count": 158,
   "metadata": {},
   "outputs": [],
   "source": [
    "def read_dataset(path):\n",
    "    #read image\n",
    "    gfile = tf.io.read_file(path)\n",
    "    image = tf.io.decode_image(gfile)\n",
    "    image = tf.cast(image,tf.float32) / 255.\n",
    "    #read label\n",
    "    class_names = get_class_name(path)\n",
    "    label = ohe(class_names)\n",
    "    return image, label"
   ]
  },
  {
   "cell_type": "code",
   "execution_count": 159,
   "metadata": {},
   "outputs": [],
   "source": [
    "def image_prerprocessing(image, label):\n",
    "    image = tf.image.random_flip_left_right(image)\n",
    "    image = tf.image.random_flip_up_down(image)\n",
    "    return image, label"
   ]
  },
  {
   "cell_type": "code",
   "execution_count": 160,
   "metadata": {},
   "outputs": [],
   "source": [
    "train_dataset = tf.data.Dataset.from_tensor_slices(train_paths)\n",
    "train_dataset = train_dataset.map(read_dataset)\n",
    "train_dataset = train_dataset.map(image_prerprocessing)\n",
    "train_dataset = train_dataset.batch(8)\n",
    "train_dataset = train_dataset.shuffle(buffer_size=len(train_paths))\n",
    "train_dataset = train_dataset.repeat()"
   ]
  },
  {
   "cell_type": "code",
   "execution_count": 161,
   "metadata": {},
   "outputs": [],
   "source": [
    "test_dataset = tf.data.Dataset.from_tensor_slices(test_paths)\n",
    "test_dataset = test_dataset.map(read_dataset)\n",
    "test_dataset = test_dataset.batch(8)\n",
    "test_dataset = test_dataset.shuffle(buffer_size=len(test_paths))\n",
    "test_dataset = test_dataset.repeat()"
   ]
  },
  {
   "cell_type": "code",
   "execution_count": 163,
   "metadata": {},
   "outputs": [],
   "source": [
    "#training"
   ]
  },
  {
   "cell_type": "code",
   "execution_count": 171,
   "metadata": {},
   "outputs": [],
   "source": [
    "inputs = layers.Input((28, 28, 1))\n",
    "net = layers.Conv2D(32, (3, 3), padding='SAME')(inputs)\n",
    "net = layers.Activation('relu')(net)\n",
    "net = layers.Conv2D(32, (3, 3), padding='SAME')(net)\n",
    "net = layers.Activation('relu')(net)\n",
    "net = layers.MaxPooling2D(pool_size=(2, 2))(net)\n",
    "net = layers.Dropout(0.25)(net)\n",
    "\n",
    "net = layers.Conv2D(64, (3, 3), padding='SAME')(net)\n",
    "net = layers.Activation('relu')(net)\n",
    "net = layers.Conv2D(64, (3, 3), padding='SAME')(net)\n",
    "net = layers.Activation('relu')(net)\n",
    "net = layers.MaxPooling2D(pool_size=(2, 2))(net)\n",
    "net = layers.Dropout(0.25)(net)\n",
    "\n",
    "net = layers.Flatten()(net)\n",
    "net = layers.Dense(512)(net)\n",
    "net = layers.Activation('relu')(net)\n",
    "net = layers.Dropout(0.5)(net)\n",
    "net = layers.Dense(10)(net)  # num_classes\n",
    "net = layers.Activation('softmax')(net)\n",
    "\n",
    "model = tf.keras.Model(inputs=inputs, outputs=net, name='Basic_CNN')"
   ]
  },
  {
   "cell_type": "code",
   "execution_count": 172,
   "metadata": {},
   "outputs": [],
   "source": [
    "model.compile(optimizer = tf.keras.optimizers.Adam(),\n",
    "                loss = 'sparse_categorical_crossentropy',\n",
    "                metrics = [tf.keras.metrics.SparseCategoricalAccuracy()])"
   ]
  },
  {
   "cell_type": "code",
   "execution_count": 173,
   "metadata": {},
   "outputs": [
    {
     "ename": "ValueError",
     "evalue": "in user code:\n\n    /opt/anaconda3/lib/python3.8/site-packages/tensorflow/python/keras/engine/training.py:806 train_function  *\n        return step_function(self, iterator)\n    /opt/anaconda3/lib/python3.8/site-packages/tensorflow/python/keras/engine/training.py:796 step_function  **\n        outputs = model.distribute_strategy.run(run_step, args=(data,))\n    /opt/anaconda3/lib/python3.8/site-packages/tensorflow/python/distribute/distribute_lib.py:1211 run\n        return self._extended.call_for_each_replica(fn, args=args, kwargs=kwargs)\n    /opt/anaconda3/lib/python3.8/site-packages/tensorflow/python/distribute/distribute_lib.py:2585 call_for_each_replica\n        return self._call_for_each_replica(fn, args, kwargs)\n    /opt/anaconda3/lib/python3.8/site-packages/tensorflow/python/distribute/distribute_lib.py:2945 _call_for_each_replica\n        return fn(*args, **kwargs)\n    /opt/anaconda3/lib/python3.8/site-packages/tensorflow/python/keras/engine/training.py:789 run_step  **\n        outputs = model.train_step(data)\n    /opt/anaconda3/lib/python3.8/site-packages/tensorflow/python/keras/engine/training.py:759 train_step\n        self.compiled_metrics.update_state(y, y_pred, sample_weight)\n    /opt/anaconda3/lib/python3.8/site-packages/tensorflow/python/keras/engine/compile_utils.py:409 update_state\n        metric_obj.update_state(y_t, y_p, sample_weight=mask)\n    /opt/anaconda3/lib/python3.8/site-packages/tensorflow/python/keras/utils/metrics_utils.py:90 decorated\n        update_op = update_state_fn(*args, **kwargs)\n    /opt/anaconda3/lib/python3.8/site-packages/tensorflow/python/keras/metrics.py:176 update_state_fn\n        return ag_update_state(*args, **kwargs)\n    /opt/anaconda3/lib/python3.8/site-packages/tensorflow/python/keras/metrics.py:612 update_state  **\n        matches = ag_fn(y_true, y_pred, **self._fn_kwargs)\n    /opt/anaconda3/lib/python3.8/site-packages/tensorflow/python/util/dispatch.py:201 wrapper\n        return target(*args, **kwargs)\n    /opt/anaconda3/lib/python3.8/site-packages/tensorflow/python/keras/metrics.py:3301 sparse_categorical_accuracy\n        y_true = array_ops.squeeze(y_true, [-1])\n    /opt/anaconda3/lib/python3.8/site-packages/tensorflow/python/util/dispatch.py:201 wrapper\n        return target(*args, **kwargs)\n    /opt/anaconda3/lib/python3.8/site-packages/tensorflow/python/util/deprecation.py:507 new_func\n        return func(*args, **kwargs)\n    /opt/anaconda3/lib/python3.8/site-packages/tensorflow/python/ops/array_ops.py:4259 squeeze\n        return gen_array_ops.squeeze(input, axis, name)\n    /opt/anaconda3/lib/python3.8/site-packages/tensorflow/python/ops/gen_array_ops.py:10043 squeeze\n        _, _, _op, _outputs = _op_def_library._apply_op_helper(\n    /opt/anaconda3/lib/python3.8/site-packages/tensorflow/python/framework/op_def_library.py:742 _apply_op_helper\n        op = g._create_op_internal(op_type_name, inputs, dtypes=None,\n    /opt/anaconda3/lib/python3.8/site-packages/tensorflow/python/framework/func_graph.py:591 _create_op_internal\n        return super(FuncGraph, self)._create_op_internal(  # pylint: disable=protected-access\n    /opt/anaconda3/lib/python3.8/site-packages/tensorflow/python/framework/ops.py:3477 _create_op_internal\n        ret = Operation(\n    /opt/anaconda3/lib/python3.8/site-packages/tensorflow/python/framework/ops.py:1974 __init__\n        self._c_op = _create_c_op(self._graph, node_def, inputs,\n    /opt/anaconda3/lib/python3.8/site-packages/tensorflow/python/framework/ops.py:1815 _create_c_op\n        raise ValueError(str(e))\n\n    ValueError: Can not squeeze dim[1], expected a dimension of 1, got 10 for '{{node Squeeze}} = Squeeze[T=DT_FLOAT, squeeze_dims=[-1]](Cast_1)' with input shapes: [?,10].\n",
     "output_type": "error",
     "traceback": [
      "\u001b[0;31m---------------------------------------------------------------------------\u001b[0m",
      "\u001b[0;31mValueError\u001b[0m                                Traceback (most recent call last)",
      "\u001b[0;32m<ipython-input-173-a676895d59b7>\u001b[0m in \u001b[0;36m<module>\u001b[0;34m\u001b[0m\n\u001b[0;32m----> 1\u001b[0;31m model.fit_generator(train_dataset,\n\u001b[0m\u001b[1;32m      2\u001b[0m                    \u001b[0msteps_per_epoch\u001b[0m\u001b[0;34m=\u001b[0m\u001b[0mlen\u001b[0m\u001b[0;34m(\u001b[0m\u001b[0mtrain_paths\u001b[0m\u001b[0;34m)\u001b[0m\u001b[0;34m//\u001b[0m\u001b[0;36m8\u001b[0m\u001b[0;34m,\u001b[0m\u001b[0;34m\u001b[0m\u001b[0;34m\u001b[0m\u001b[0m\n\u001b[1;32m      3\u001b[0m                    \u001b[0mvalidation_data\u001b[0m \u001b[0;34m=\u001b[0m \u001b[0mtest_dataset\u001b[0m\u001b[0;34m,\u001b[0m\u001b[0;34m\u001b[0m\u001b[0;34m\u001b[0m\u001b[0m\n\u001b[1;32m      4\u001b[0m                    \u001b[0mvalidation_steps\u001b[0m \u001b[0;34m=\u001b[0m \u001b[0mlen\u001b[0m\u001b[0;34m(\u001b[0m\u001b[0mtest_paths\u001b[0m\u001b[0;34m)\u001b[0m\u001b[0;34m//\u001b[0m\u001b[0;36m8\u001b[0m\u001b[0;34m,\u001b[0m\u001b[0;34m\u001b[0m\u001b[0;34m\u001b[0m\u001b[0m\n\u001b[1;32m      5\u001b[0m                    \u001b[0mepochs\u001b[0m\u001b[0;34m=\u001b[0m\u001b[0;36m1\u001b[0m\u001b[0;34m\u001b[0m\u001b[0;34m\u001b[0m\u001b[0m\n",
      "\u001b[0;32m/opt/anaconda3/lib/python3.8/site-packages/tensorflow/python/util/deprecation.py\u001b[0m in \u001b[0;36mnew_func\u001b[0;34m(*args, **kwargs)\u001b[0m\n\u001b[1;32m    322\u001b[0m               \u001b[0;34m'in a future version'\u001b[0m \u001b[0;32mif\u001b[0m \u001b[0mdate\u001b[0m \u001b[0;32mis\u001b[0m \u001b[0;32mNone\u001b[0m \u001b[0;32melse\u001b[0m \u001b[0;34m(\u001b[0m\u001b[0;34m'after %s'\u001b[0m \u001b[0;34m%\u001b[0m \u001b[0mdate\u001b[0m\u001b[0;34m)\u001b[0m\u001b[0;34m,\u001b[0m\u001b[0;34m\u001b[0m\u001b[0;34m\u001b[0m\u001b[0m\n\u001b[1;32m    323\u001b[0m               instructions)\n\u001b[0;32m--> 324\u001b[0;31m       \u001b[0;32mreturn\u001b[0m \u001b[0mfunc\u001b[0m\u001b[0;34m(\u001b[0m\u001b[0;34m*\u001b[0m\u001b[0margs\u001b[0m\u001b[0;34m,\u001b[0m \u001b[0;34m**\u001b[0m\u001b[0mkwargs\u001b[0m\u001b[0;34m)\u001b[0m\u001b[0;34m\u001b[0m\u001b[0;34m\u001b[0m\u001b[0m\n\u001b[0m\u001b[1;32m    325\u001b[0m     return tf_decorator.make_decorator(\n\u001b[1;32m    326\u001b[0m         \u001b[0mfunc\u001b[0m\u001b[0;34m,\u001b[0m \u001b[0mnew_func\u001b[0m\u001b[0;34m,\u001b[0m \u001b[0;34m'deprecated'\u001b[0m\u001b[0;34m,\u001b[0m\u001b[0;34m\u001b[0m\u001b[0;34m\u001b[0m\u001b[0m\n",
      "\u001b[0;32m/opt/anaconda3/lib/python3.8/site-packages/tensorflow/python/keras/engine/training.py\u001b[0m in \u001b[0;36mfit_generator\u001b[0;34m(self, generator, steps_per_epoch, epochs, verbose, callbacks, validation_data, validation_steps, validation_freq, class_weight, max_queue_size, workers, use_multiprocessing, shuffle, initial_epoch)\u001b[0m\n\u001b[1;32m   1813\u001b[0m     \"\"\"\n\u001b[1;32m   1814\u001b[0m     \u001b[0m_keras_api_gauge\u001b[0m\u001b[0;34m.\u001b[0m\u001b[0mget_cell\u001b[0m\u001b[0;34m(\u001b[0m\u001b[0;34m'fit_generator'\u001b[0m\u001b[0;34m)\u001b[0m\u001b[0;34m.\u001b[0m\u001b[0mset\u001b[0m\u001b[0;34m(\u001b[0m\u001b[0;32mTrue\u001b[0m\u001b[0;34m)\u001b[0m\u001b[0;34m\u001b[0m\u001b[0;34m\u001b[0m\u001b[0m\n\u001b[0;32m-> 1815\u001b[0;31m     return self.fit(\n\u001b[0m\u001b[1;32m   1816\u001b[0m         \u001b[0mgenerator\u001b[0m\u001b[0;34m,\u001b[0m\u001b[0;34m\u001b[0m\u001b[0;34m\u001b[0m\u001b[0m\n\u001b[1;32m   1817\u001b[0m         \u001b[0msteps_per_epoch\u001b[0m\u001b[0;34m=\u001b[0m\u001b[0msteps_per_epoch\u001b[0m\u001b[0;34m,\u001b[0m\u001b[0;34m\u001b[0m\u001b[0;34m\u001b[0m\u001b[0m\n",
      "\u001b[0;32m/opt/anaconda3/lib/python3.8/site-packages/tensorflow/python/keras/engine/training.py\u001b[0m in \u001b[0;36m_method_wrapper\u001b[0;34m(self, *args, **kwargs)\u001b[0m\n\u001b[1;32m    106\u001b[0m   \u001b[0;32mdef\u001b[0m \u001b[0m_method_wrapper\u001b[0m\u001b[0;34m(\u001b[0m\u001b[0mself\u001b[0m\u001b[0;34m,\u001b[0m \u001b[0;34m*\u001b[0m\u001b[0margs\u001b[0m\u001b[0;34m,\u001b[0m \u001b[0;34m**\u001b[0m\u001b[0mkwargs\u001b[0m\u001b[0;34m)\u001b[0m\u001b[0;34m:\u001b[0m\u001b[0;34m\u001b[0m\u001b[0;34m\u001b[0m\u001b[0m\n\u001b[1;32m    107\u001b[0m     \u001b[0;32mif\u001b[0m \u001b[0;32mnot\u001b[0m \u001b[0mself\u001b[0m\u001b[0;34m.\u001b[0m\u001b[0m_in_multi_worker_mode\u001b[0m\u001b[0;34m(\u001b[0m\u001b[0;34m)\u001b[0m\u001b[0;34m:\u001b[0m  \u001b[0;31m# pylint: disable=protected-access\u001b[0m\u001b[0;34m\u001b[0m\u001b[0;34m\u001b[0m\u001b[0m\n\u001b[0;32m--> 108\u001b[0;31m       \u001b[0;32mreturn\u001b[0m \u001b[0mmethod\u001b[0m\u001b[0;34m(\u001b[0m\u001b[0mself\u001b[0m\u001b[0;34m,\u001b[0m \u001b[0;34m*\u001b[0m\u001b[0margs\u001b[0m\u001b[0;34m,\u001b[0m \u001b[0;34m**\u001b[0m\u001b[0mkwargs\u001b[0m\u001b[0;34m)\u001b[0m\u001b[0;34m\u001b[0m\u001b[0;34m\u001b[0m\u001b[0m\n\u001b[0m\u001b[1;32m    109\u001b[0m \u001b[0;34m\u001b[0m\u001b[0m\n\u001b[1;32m    110\u001b[0m     \u001b[0;31m# Running inside `run_distribute_coordinator` already.\u001b[0m\u001b[0;34m\u001b[0m\u001b[0;34m\u001b[0m\u001b[0;34m\u001b[0m\u001b[0m\n",
      "\u001b[0;32m/opt/anaconda3/lib/python3.8/site-packages/tensorflow/python/keras/engine/training.py\u001b[0m in \u001b[0;36mfit\u001b[0;34m(self, x, y, batch_size, epochs, verbose, callbacks, validation_split, validation_data, shuffle, class_weight, sample_weight, initial_epoch, steps_per_epoch, validation_steps, validation_batch_size, validation_freq, max_queue_size, workers, use_multiprocessing)\u001b[0m\n\u001b[1;32m   1096\u001b[0m                 batch_size=batch_size):\n\u001b[1;32m   1097\u001b[0m               \u001b[0mcallbacks\u001b[0m\u001b[0;34m.\u001b[0m\u001b[0mon_train_batch_begin\u001b[0m\u001b[0;34m(\u001b[0m\u001b[0mstep\u001b[0m\u001b[0;34m)\u001b[0m\u001b[0;34m\u001b[0m\u001b[0;34m\u001b[0m\u001b[0m\n\u001b[0;32m-> 1098\u001b[0;31m               \u001b[0mtmp_logs\u001b[0m \u001b[0;34m=\u001b[0m \u001b[0mtrain_function\u001b[0m\u001b[0;34m(\u001b[0m\u001b[0miterator\u001b[0m\u001b[0;34m)\u001b[0m\u001b[0;34m\u001b[0m\u001b[0;34m\u001b[0m\u001b[0m\n\u001b[0m\u001b[1;32m   1099\u001b[0m               \u001b[0;32mif\u001b[0m \u001b[0mdata_handler\u001b[0m\u001b[0;34m.\u001b[0m\u001b[0mshould_sync\u001b[0m\u001b[0;34m:\u001b[0m\u001b[0;34m\u001b[0m\u001b[0;34m\u001b[0m\u001b[0m\n\u001b[1;32m   1100\u001b[0m                 \u001b[0mcontext\u001b[0m\u001b[0;34m.\u001b[0m\u001b[0masync_wait\u001b[0m\u001b[0;34m(\u001b[0m\u001b[0;34m)\u001b[0m\u001b[0;34m\u001b[0m\u001b[0;34m\u001b[0m\u001b[0m\n",
      "\u001b[0;32m/opt/anaconda3/lib/python3.8/site-packages/tensorflow/python/eager/def_function.py\u001b[0m in \u001b[0;36m__call__\u001b[0;34m(self, *args, **kwds)\u001b[0m\n\u001b[1;32m    778\u001b[0m       \u001b[0;32melse\u001b[0m\u001b[0;34m:\u001b[0m\u001b[0;34m\u001b[0m\u001b[0;34m\u001b[0m\u001b[0m\n\u001b[1;32m    779\u001b[0m         \u001b[0mcompiler\u001b[0m \u001b[0;34m=\u001b[0m \u001b[0;34m\"nonXla\"\u001b[0m\u001b[0;34m\u001b[0m\u001b[0;34m\u001b[0m\u001b[0m\n\u001b[0;32m--> 780\u001b[0;31m         \u001b[0mresult\u001b[0m \u001b[0;34m=\u001b[0m \u001b[0mself\u001b[0m\u001b[0;34m.\u001b[0m\u001b[0m_call\u001b[0m\u001b[0;34m(\u001b[0m\u001b[0;34m*\u001b[0m\u001b[0margs\u001b[0m\u001b[0;34m,\u001b[0m \u001b[0;34m**\u001b[0m\u001b[0mkwds\u001b[0m\u001b[0;34m)\u001b[0m\u001b[0;34m\u001b[0m\u001b[0;34m\u001b[0m\u001b[0m\n\u001b[0m\u001b[1;32m    781\u001b[0m \u001b[0;34m\u001b[0m\u001b[0m\n\u001b[1;32m    782\u001b[0m       \u001b[0mnew_tracing_count\u001b[0m \u001b[0;34m=\u001b[0m \u001b[0mself\u001b[0m\u001b[0;34m.\u001b[0m\u001b[0m_get_tracing_count\u001b[0m\u001b[0;34m(\u001b[0m\u001b[0;34m)\u001b[0m\u001b[0;34m\u001b[0m\u001b[0;34m\u001b[0m\u001b[0m\n",
      "\u001b[0;32m/opt/anaconda3/lib/python3.8/site-packages/tensorflow/python/eager/def_function.py\u001b[0m in \u001b[0;36m_call\u001b[0;34m(self, *args, **kwds)\u001b[0m\n\u001b[1;32m    821\u001b[0m       \u001b[0;31m# This is the first call of __call__, so we have to initialize.\u001b[0m\u001b[0;34m\u001b[0m\u001b[0;34m\u001b[0m\u001b[0;34m\u001b[0m\u001b[0m\n\u001b[1;32m    822\u001b[0m       \u001b[0minitializers\u001b[0m \u001b[0;34m=\u001b[0m \u001b[0;34m[\u001b[0m\u001b[0;34m]\u001b[0m\u001b[0;34m\u001b[0m\u001b[0;34m\u001b[0m\u001b[0m\n\u001b[0;32m--> 823\u001b[0;31m       \u001b[0mself\u001b[0m\u001b[0;34m.\u001b[0m\u001b[0m_initialize\u001b[0m\u001b[0;34m(\u001b[0m\u001b[0margs\u001b[0m\u001b[0;34m,\u001b[0m \u001b[0mkwds\u001b[0m\u001b[0;34m,\u001b[0m \u001b[0madd_initializers_to\u001b[0m\u001b[0;34m=\u001b[0m\u001b[0minitializers\u001b[0m\u001b[0;34m)\u001b[0m\u001b[0;34m\u001b[0m\u001b[0;34m\u001b[0m\u001b[0m\n\u001b[0m\u001b[1;32m    824\u001b[0m     \u001b[0;32mfinally\u001b[0m\u001b[0;34m:\u001b[0m\u001b[0;34m\u001b[0m\u001b[0;34m\u001b[0m\u001b[0m\n\u001b[1;32m    825\u001b[0m       \u001b[0;31m# At this point we know that the initialization is complete (or less\u001b[0m\u001b[0;34m\u001b[0m\u001b[0;34m\u001b[0m\u001b[0;34m\u001b[0m\u001b[0m\n",
      "\u001b[0;32m/opt/anaconda3/lib/python3.8/site-packages/tensorflow/python/eager/def_function.py\u001b[0m in \u001b[0;36m_initialize\u001b[0;34m(self, args, kwds, add_initializers_to)\u001b[0m\n\u001b[1;32m    694\u001b[0m     \u001b[0mself\u001b[0m\u001b[0;34m.\u001b[0m\u001b[0m_graph_deleter\u001b[0m \u001b[0;34m=\u001b[0m \u001b[0mFunctionDeleter\u001b[0m\u001b[0;34m(\u001b[0m\u001b[0mself\u001b[0m\u001b[0;34m.\u001b[0m\u001b[0m_lifted_initializer_graph\u001b[0m\u001b[0;34m)\u001b[0m\u001b[0;34m\u001b[0m\u001b[0;34m\u001b[0m\u001b[0m\n\u001b[1;32m    695\u001b[0m     self._concrete_stateful_fn = (\n\u001b[0;32m--> 696\u001b[0;31m         self._stateful_fn._get_concrete_function_internal_garbage_collected(  # pylint: disable=protected-access\n\u001b[0m\u001b[1;32m    697\u001b[0m             *args, **kwds))\n\u001b[1;32m    698\u001b[0m \u001b[0;34m\u001b[0m\u001b[0m\n",
      "\u001b[0;32m/opt/anaconda3/lib/python3.8/site-packages/tensorflow/python/eager/function.py\u001b[0m in \u001b[0;36m_get_concrete_function_internal_garbage_collected\u001b[0;34m(self, *args, **kwargs)\u001b[0m\n\u001b[1;32m   2853\u001b[0m       \u001b[0margs\u001b[0m\u001b[0;34m,\u001b[0m \u001b[0mkwargs\u001b[0m \u001b[0;34m=\u001b[0m \u001b[0;32mNone\u001b[0m\u001b[0;34m,\u001b[0m \u001b[0;32mNone\u001b[0m\u001b[0;34m\u001b[0m\u001b[0;34m\u001b[0m\u001b[0m\n\u001b[1;32m   2854\u001b[0m     \u001b[0;32mwith\u001b[0m \u001b[0mself\u001b[0m\u001b[0;34m.\u001b[0m\u001b[0m_lock\u001b[0m\u001b[0;34m:\u001b[0m\u001b[0;34m\u001b[0m\u001b[0;34m\u001b[0m\u001b[0m\n\u001b[0;32m-> 2855\u001b[0;31m       \u001b[0mgraph_function\u001b[0m\u001b[0;34m,\u001b[0m \u001b[0m_\u001b[0m\u001b[0;34m,\u001b[0m \u001b[0m_\u001b[0m \u001b[0;34m=\u001b[0m \u001b[0mself\u001b[0m\u001b[0;34m.\u001b[0m\u001b[0m_maybe_define_function\u001b[0m\u001b[0;34m(\u001b[0m\u001b[0margs\u001b[0m\u001b[0;34m,\u001b[0m \u001b[0mkwargs\u001b[0m\u001b[0;34m)\u001b[0m\u001b[0;34m\u001b[0m\u001b[0;34m\u001b[0m\u001b[0m\n\u001b[0m\u001b[1;32m   2856\u001b[0m     \u001b[0;32mreturn\u001b[0m \u001b[0mgraph_function\u001b[0m\u001b[0;34m\u001b[0m\u001b[0;34m\u001b[0m\u001b[0m\n\u001b[1;32m   2857\u001b[0m \u001b[0;34m\u001b[0m\u001b[0m\n",
      "\u001b[0;32m/opt/anaconda3/lib/python3.8/site-packages/tensorflow/python/eager/function.py\u001b[0m in \u001b[0;36m_maybe_define_function\u001b[0;34m(self, args, kwargs)\u001b[0m\n\u001b[1;32m   3211\u001b[0m \u001b[0;34m\u001b[0m\u001b[0m\n\u001b[1;32m   3212\u001b[0m       \u001b[0mself\u001b[0m\u001b[0;34m.\u001b[0m\u001b[0m_function_cache\u001b[0m\u001b[0;34m.\u001b[0m\u001b[0mmissed\u001b[0m\u001b[0;34m.\u001b[0m\u001b[0madd\u001b[0m\u001b[0;34m(\u001b[0m\u001b[0mcall_context_key\u001b[0m\u001b[0;34m)\u001b[0m\u001b[0;34m\u001b[0m\u001b[0;34m\u001b[0m\u001b[0m\n\u001b[0;32m-> 3213\u001b[0;31m       \u001b[0mgraph_function\u001b[0m \u001b[0;34m=\u001b[0m \u001b[0mself\u001b[0m\u001b[0;34m.\u001b[0m\u001b[0m_create_graph_function\u001b[0m\u001b[0;34m(\u001b[0m\u001b[0margs\u001b[0m\u001b[0;34m,\u001b[0m \u001b[0mkwargs\u001b[0m\u001b[0;34m)\u001b[0m\u001b[0;34m\u001b[0m\u001b[0;34m\u001b[0m\u001b[0m\n\u001b[0m\u001b[1;32m   3214\u001b[0m       \u001b[0mself\u001b[0m\u001b[0;34m.\u001b[0m\u001b[0m_function_cache\u001b[0m\u001b[0;34m.\u001b[0m\u001b[0mprimary\u001b[0m\u001b[0;34m[\u001b[0m\u001b[0mcache_key\u001b[0m\u001b[0;34m]\u001b[0m \u001b[0;34m=\u001b[0m \u001b[0mgraph_function\u001b[0m\u001b[0;34m\u001b[0m\u001b[0;34m\u001b[0m\u001b[0m\n\u001b[1;32m   3215\u001b[0m       \u001b[0;32mreturn\u001b[0m \u001b[0mgraph_function\u001b[0m\u001b[0;34m,\u001b[0m \u001b[0margs\u001b[0m\u001b[0;34m,\u001b[0m \u001b[0mkwargs\u001b[0m\u001b[0;34m\u001b[0m\u001b[0;34m\u001b[0m\u001b[0m\n",
      "\u001b[0;32m/opt/anaconda3/lib/python3.8/site-packages/tensorflow/python/eager/function.py\u001b[0m in \u001b[0;36m_create_graph_function\u001b[0;34m(self, args, kwargs, override_flat_arg_shapes)\u001b[0m\n\u001b[1;32m   3063\u001b[0m     \u001b[0marg_names\u001b[0m \u001b[0;34m=\u001b[0m \u001b[0mbase_arg_names\u001b[0m \u001b[0;34m+\u001b[0m \u001b[0mmissing_arg_names\u001b[0m\u001b[0;34m\u001b[0m\u001b[0;34m\u001b[0m\u001b[0m\n\u001b[1;32m   3064\u001b[0m     graph_function = ConcreteFunction(\n\u001b[0;32m-> 3065\u001b[0;31m         func_graph_module.func_graph_from_py_func(\n\u001b[0m\u001b[1;32m   3066\u001b[0m             \u001b[0mself\u001b[0m\u001b[0;34m.\u001b[0m\u001b[0m_name\u001b[0m\u001b[0;34m,\u001b[0m\u001b[0;34m\u001b[0m\u001b[0;34m\u001b[0m\u001b[0m\n\u001b[1;32m   3067\u001b[0m             \u001b[0mself\u001b[0m\u001b[0;34m.\u001b[0m\u001b[0m_python_function\u001b[0m\u001b[0;34m,\u001b[0m\u001b[0;34m\u001b[0m\u001b[0;34m\u001b[0m\u001b[0m\n",
      "\u001b[0;32m/opt/anaconda3/lib/python3.8/site-packages/tensorflow/python/framework/func_graph.py\u001b[0m in \u001b[0;36mfunc_graph_from_py_func\u001b[0;34m(name, python_func, args, kwargs, signature, func_graph, autograph, autograph_options, add_control_dependencies, arg_names, op_return_value, collections, capture_by_value, override_flat_arg_shapes)\u001b[0m\n\u001b[1;32m    984\u001b[0m         \u001b[0m_\u001b[0m\u001b[0;34m,\u001b[0m \u001b[0moriginal_func\u001b[0m \u001b[0;34m=\u001b[0m \u001b[0mtf_decorator\u001b[0m\u001b[0;34m.\u001b[0m\u001b[0munwrap\u001b[0m\u001b[0;34m(\u001b[0m\u001b[0mpython_func\u001b[0m\u001b[0;34m)\u001b[0m\u001b[0;34m\u001b[0m\u001b[0;34m\u001b[0m\u001b[0m\n\u001b[1;32m    985\u001b[0m \u001b[0;34m\u001b[0m\u001b[0m\n\u001b[0;32m--> 986\u001b[0;31m       \u001b[0mfunc_outputs\u001b[0m \u001b[0;34m=\u001b[0m \u001b[0mpython_func\u001b[0m\u001b[0;34m(\u001b[0m\u001b[0;34m*\u001b[0m\u001b[0mfunc_args\u001b[0m\u001b[0;34m,\u001b[0m \u001b[0;34m**\u001b[0m\u001b[0mfunc_kwargs\u001b[0m\u001b[0;34m)\u001b[0m\u001b[0;34m\u001b[0m\u001b[0;34m\u001b[0m\u001b[0m\n\u001b[0m\u001b[1;32m    987\u001b[0m \u001b[0;34m\u001b[0m\u001b[0m\n\u001b[1;32m    988\u001b[0m       \u001b[0;31m# invariant: `func_outputs` contains only Tensors, CompositeTensors,\u001b[0m\u001b[0;34m\u001b[0m\u001b[0;34m\u001b[0m\u001b[0;34m\u001b[0m\u001b[0m\n",
      "\u001b[0;32m/opt/anaconda3/lib/python3.8/site-packages/tensorflow/python/eager/def_function.py\u001b[0m in \u001b[0;36mwrapped_fn\u001b[0;34m(*args, **kwds)\u001b[0m\n\u001b[1;32m    598\u001b[0m         \u001b[0;31m# __wrapped__ allows AutoGraph to swap in a converted function. We give\u001b[0m\u001b[0;34m\u001b[0m\u001b[0;34m\u001b[0m\u001b[0;34m\u001b[0m\u001b[0m\n\u001b[1;32m    599\u001b[0m         \u001b[0;31m# the function a weak reference to itself to avoid a reference cycle.\u001b[0m\u001b[0;34m\u001b[0m\u001b[0;34m\u001b[0m\u001b[0;34m\u001b[0m\u001b[0m\n\u001b[0;32m--> 600\u001b[0;31m         \u001b[0;32mreturn\u001b[0m \u001b[0mweak_wrapped_fn\u001b[0m\u001b[0;34m(\u001b[0m\u001b[0;34m)\u001b[0m\u001b[0;34m.\u001b[0m\u001b[0m__wrapped__\u001b[0m\u001b[0;34m(\u001b[0m\u001b[0;34m*\u001b[0m\u001b[0margs\u001b[0m\u001b[0;34m,\u001b[0m \u001b[0;34m**\u001b[0m\u001b[0mkwds\u001b[0m\u001b[0;34m)\u001b[0m\u001b[0;34m\u001b[0m\u001b[0;34m\u001b[0m\u001b[0m\n\u001b[0m\u001b[1;32m    601\u001b[0m     \u001b[0mweak_wrapped_fn\u001b[0m \u001b[0;34m=\u001b[0m \u001b[0mweakref\u001b[0m\u001b[0;34m.\u001b[0m\u001b[0mref\u001b[0m\u001b[0;34m(\u001b[0m\u001b[0mwrapped_fn\u001b[0m\u001b[0;34m)\u001b[0m\u001b[0;34m\u001b[0m\u001b[0;34m\u001b[0m\u001b[0m\n\u001b[1;32m    602\u001b[0m \u001b[0;34m\u001b[0m\u001b[0m\n",
      "\u001b[0;32m/opt/anaconda3/lib/python3.8/site-packages/tensorflow/python/framework/func_graph.py\u001b[0m in \u001b[0;36mwrapper\u001b[0;34m(*args, **kwargs)\u001b[0m\n\u001b[1;32m    971\u001b[0m           \u001b[0;32mexcept\u001b[0m \u001b[0mException\u001b[0m \u001b[0;32mas\u001b[0m \u001b[0me\u001b[0m\u001b[0;34m:\u001b[0m  \u001b[0;31m# pylint:disable=broad-except\u001b[0m\u001b[0;34m\u001b[0m\u001b[0;34m\u001b[0m\u001b[0m\n\u001b[1;32m    972\u001b[0m             \u001b[0;32mif\u001b[0m \u001b[0mhasattr\u001b[0m\u001b[0;34m(\u001b[0m\u001b[0me\u001b[0m\u001b[0;34m,\u001b[0m \u001b[0;34m\"ag_error_metadata\"\u001b[0m\u001b[0;34m)\u001b[0m\u001b[0;34m:\u001b[0m\u001b[0;34m\u001b[0m\u001b[0;34m\u001b[0m\u001b[0m\n\u001b[0;32m--> 973\u001b[0;31m               \u001b[0;32mraise\u001b[0m \u001b[0me\u001b[0m\u001b[0;34m.\u001b[0m\u001b[0mag_error_metadata\u001b[0m\u001b[0;34m.\u001b[0m\u001b[0mto_exception\u001b[0m\u001b[0;34m(\u001b[0m\u001b[0me\u001b[0m\u001b[0;34m)\u001b[0m\u001b[0;34m\u001b[0m\u001b[0;34m\u001b[0m\u001b[0m\n\u001b[0m\u001b[1;32m    974\u001b[0m             \u001b[0;32melse\u001b[0m\u001b[0;34m:\u001b[0m\u001b[0;34m\u001b[0m\u001b[0;34m\u001b[0m\u001b[0m\n\u001b[1;32m    975\u001b[0m               \u001b[0;32mraise\u001b[0m\u001b[0;34m\u001b[0m\u001b[0;34m\u001b[0m\u001b[0m\n",
      "\u001b[0;31mValueError\u001b[0m: in user code:\n\n    /opt/anaconda3/lib/python3.8/site-packages/tensorflow/python/keras/engine/training.py:806 train_function  *\n        return step_function(self, iterator)\n    /opt/anaconda3/lib/python3.8/site-packages/tensorflow/python/keras/engine/training.py:796 step_function  **\n        outputs = model.distribute_strategy.run(run_step, args=(data,))\n    /opt/anaconda3/lib/python3.8/site-packages/tensorflow/python/distribute/distribute_lib.py:1211 run\n        return self._extended.call_for_each_replica(fn, args=args, kwargs=kwargs)\n    /opt/anaconda3/lib/python3.8/site-packages/tensorflow/python/distribute/distribute_lib.py:2585 call_for_each_replica\n        return self._call_for_each_replica(fn, args, kwargs)\n    /opt/anaconda3/lib/python3.8/site-packages/tensorflow/python/distribute/distribute_lib.py:2945 _call_for_each_replica\n        return fn(*args, **kwargs)\n    /opt/anaconda3/lib/python3.8/site-packages/tensorflow/python/keras/engine/training.py:789 run_step  **\n        outputs = model.train_step(data)\n    /opt/anaconda3/lib/python3.8/site-packages/tensorflow/python/keras/engine/training.py:759 train_step\n        self.compiled_metrics.update_state(y, y_pred, sample_weight)\n    /opt/anaconda3/lib/python3.8/site-packages/tensorflow/python/keras/engine/compile_utils.py:409 update_state\n        metric_obj.update_state(y_t, y_p, sample_weight=mask)\n    /opt/anaconda3/lib/python3.8/site-packages/tensorflow/python/keras/utils/metrics_utils.py:90 decorated\n        update_op = update_state_fn(*args, **kwargs)\n    /opt/anaconda3/lib/python3.8/site-packages/tensorflow/python/keras/metrics.py:176 update_state_fn\n        return ag_update_state(*args, **kwargs)\n    /opt/anaconda3/lib/python3.8/site-packages/tensorflow/python/keras/metrics.py:612 update_state  **\n        matches = ag_fn(y_true, y_pred, **self._fn_kwargs)\n    /opt/anaconda3/lib/python3.8/site-packages/tensorflow/python/util/dispatch.py:201 wrapper\n        return target(*args, **kwargs)\n    /opt/anaconda3/lib/python3.8/site-packages/tensorflow/python/keras/metrics.py:3301 sparse_categorical_accuracy\n        y_true = array_ops.squeeze(y_true, [-1])\n    /opt/anaconda3/lib/python3.8/site-packages/tensorflow/python/util/dispatch.py:201 wrapper\n        return target(*args, **kwargs)\n    /opt/anaconda3/lib/python3.8/site-packages/tensorflow/python/util/deprecation.py:507 new_func\n        return func(*args, **kwargs)\n    /opt/anaconda3/lib/python3.8/site-packages/tensorflow/python/ops/array_ops.py:4259 squeeze\n        return gen_array_ops.squeeze(input, axis, name)\n    /opt/anaconda3/lib/python3.8/site-packages/tensorflow/python/ops/gen_array_ops.py:10043 squeeze\n        _, _, _op, _outputs = _op_def_library._apply_op_helper(\n    /opt/anaconda3/lib/python3.8/site-packages/tensorflow/python/framework/op_def_library.py:742 _apply_op_helper\n        op = g._create_op_internal(op_type_name, inputs, dtypes=None,\n    /opt/anaconda3/lib/python3.8/site-packages/tensorflow/python/framework/func_graph.py:591 _create_op_internal\n        return super(FuncGraph, self)._create_op_internal(  # pylint: disable=protected-access\n    /opt/anaconda3/lib/python3.8/site-packages/tensorflow/python/framework/ops.py:3477 _create_op_internal\n        ret = Operation(\n    /opt/anaconda3/lib/python3.8/site-packages/tensorflow/python/framework/ops.py:1974 __init__\n        self._c_op = _create_c_op(self._graph, node_def, inputs,\n    /opt/anaconda3/lib/python3.8/site-packages/tensorflow/python/framework/ops.py:1815 _create_c_op\n        raise ValueError(str(e))\n\n    ValueError: Can not squeeze dim[1], expected a dimension of 1, got 10 for '{{node Squeeze}} = Squeeze[T=DT_FLOAT, squeeze_dims=[-1]](Cast_1)' with input shapes: [?,10].\n"
     ]
    }
   ],
   "source": [
    "model.fit_generator(train_dataset,\n",
    "                   steps_per_epoch=len(train_paths)//8,\n",
    "                   validation_data = test_dataset,\n",
    "                   validation_steps = len(test_paths)//8,\n",
    "                   epochs=1\n",
    "                  )"
   ]
  },
  {
   "cell_type": "code",
   "execution_count": null,
   "metadata": {},
   "outputs": [],
   "source": []
  }
 ],
 "metadata": {
  "kernelspec": {
   "display_name": "Python 3",
   "language": "python",
   "name": "python3"
  },
  "language_info": {
   "codemirror_mode": {
    "name": "ipython",
    "version": 3
   },
   "file_extension": ".py",
   "mimetype": "text/x-python",
   "name": "python",
   "nbconvert_exporter": "python",
   "pygments_lexer": "ipython3",
   "version": "3.8.3"
  }
 },
 "nbformat": 4,
 "nbformat_minor": 4
}
